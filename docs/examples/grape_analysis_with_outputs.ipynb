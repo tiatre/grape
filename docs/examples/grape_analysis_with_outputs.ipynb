{
 "cells": [
  {
   "cell_type": "markdown",
   "metadata": {},
   "source": [
    "# GRAPE: Interactive Phylogenetic Analysis\n",
    "\n",
    "This notebook provides an interactive introduction to GRAPE (Graph Analysis and Phylogenetic Estimation). You'll learn how to:\n",
    "\n",
    "1. **Load and explore linguistic data**\n",
    "2. **Run basic phylogenetic analysis**  \n",
    "3. **Visualize results**\n",
    "4. **Compare different parameters**\n",
    "5. **Validate results against linguistic knowledge**\n",
    "\n",
    "## Prerequisites\n",
    "\n",
    "Make sure you have the required dependencies installed:"
   ]
  },
  {
   "cell_type": "code",
   "execution_count": 1,
   "metadata": {
    "execution": {
     "iopub.execute_input": "2025-07-21T13:45:22.918920Z",
     "iopub.status.busy": "2025-07-21T13:45:22.918440Z",
     "iopub.status.idle": "2025-07-21T13:45:23.226115Z",
     "shell.execute_reply": "2025-07-21T13:45:23.223318Z"
    }
   },
   "outputs": [
    {
     "ename": "ModuleNotFoundError",
     "evalue": "No module named 'pandas'",
     "output_type": "error",
     "traceback": [
      "\u001b[31m---------------------------------------------------------------------------\u001b[39m",
      "\u001b[31mModuleNotFoundError\u001b[39m                       Traceback (most recent call last)",
      "\u001b[36mCell\u001b[39m\u001b[36m \u001b[39m\u001b[32mIn[1]\u001b[39m\u001b[32m, line 7\u001b[39m\n\u001b[32m      5\u001b[39m \u001b[38;5;28;01mimport\u001b[39;00m\u001b[38;5;250m \u001b[39m\u001b[34;01msys\u001b[39;00m\n\u001b[32m      6\u001b[39m \u001b[38;5;28;01mimport\u001b[39;00m\u001b[38;5;250m \u001b[39m\u001b[34;01msubprocess\u001b[39;00m\n\u001b[32m----> \u001b[39m\u001b[32m7\u001b[39m \u001b[38;5;28;01mimport\u001b[39;00m\u001b[38;5;250m \u001b[39m\u001b[34;01mpandas\u001b[39;00m\u001b[38;5;250m \u001b[39m\u001b[38;5;28;01mas\u001b[39;00m\u001b[38;5;250m \u001b[39m\u001b[34;01mpd\u001b[39;00m\n\u001b[32m      8\u001b[39m \u001b[38;5;28;01mimport\u001b[39;00m\u001b[38;5;250m \u001b[39m\u001b[34;01mnetworkx\u001b[39;00m\u001b[38;5;250m \u001b[39m\u001b[38;5;28;01mas\u001b[39;00m\u001b[38;5;250m \u001b[39m\u001b[34;01mnx\u001b[39;00m\n\u001b[32m      9\u001b[39m \u001b[38;5;28;01mimport\u001b[39;00m\u001b[38;5;250m \u001b[39m\u001b[34;01mnumpy\u001b[39;00m\u001b[38;5;250m \u001b[39m\u001b[38;5;28;01mas\u001b[39;00m\u001b[38;5;250m \u001b[39m\u001b[34;01mnp\u001b[39;00m\n",
      "\u001b[31mModuleNotFoundError\u001b[39m: No module named 'pandas'"
     ]
    }
   ],
   "source": [
    "# Install required packages if needed\n",
    "# !pip install networkx ete3 numpy matplotlib seaborn pandas\n",
    "\n",
    "import os\n",
    "import sys\n",
    "import subprocess\n",
    "import pandas as pd\n",
    "import networkx as nx\n",
    "import numpy as np\n",
    "import matplotlib.pyplot as plt\n",
    "import seaborn as sns\n",
    "from ete3 import Tree, TreeStyle, NodeStyle\n",
    "from collections import defaultdict, Counter\n",
    "from typing import Dict, List, Set, Tuple\n",
    "\n",
    "# Set up plotting\n",
    "plt.style.use('default')\n",
    "sns.set_palette(\"husl\")\n",
    "%matplotlib inline\n",
    "\n",
    "print(\"✓ All dependencies loaded successfully!\")"
   ]
  },
  {
   "cell_type": "markdown",
   "metadata": {},
   "source": [
    "## 1. Data Exploration\n",
    "\n",
    "Let's start by exploring our linguistic datasets. GRAPE works with cognate data in TSV format."
   ]
  },
  {
   "cell_type": "code",
   "execution_count": 2,
   "metadata": {
    "execution": {
     "iopub.execute_input": "2025-07-21T13:45:23.288339Z",
     "iopub.status.busy": "2025-07-21T13:45:23.287784Z",
     "iopub.status.idle": "2025-07-21T13:45:23.298585Z",
     "shell.execute_reply": "2025-07-21T13:45:23.297148Z"
    }
   },
   "outputs": [
    {
     "name": "stdout",
     "output_type": "stream",
     "text": [
      "Current directory: /home/tiagot/tiatre/grape\n",
      "\n",
      "Available datasets: ['walworthpolynesian.tsv', 'tuled.tsv', 'chaconarawakan.tsv', 'iecor_german.tsv', 'iecor_small.tsv', 'dravlex.tsv', 'iecor_full.tsv', 'harald_ie.tsv']\n"
     ]
    }
   ],
   "source": [
    "# Change to the main GRAPE directory\n",
    "os.chdir('../..')\n",
    "print(f\"Current directory: {os.getcwd()}\")\n",
    "\n",
    "# List available datasets\n",
    "data_files = [f for f in os.listdir('data/') if f.endswith('.tsv')]\n",
    "print(f\"\\nAvailable datasets: {data_files}\")"
   ]
  },
  {
   "cell_type": "code",
   "execution_count": 3,
   "metadata": {
    "execution": {
     "iopub.execute_input": "2025-07-21T13:45:23.302877Z",
     "iopub.status.busy": "2025-07-21T13:45:23.302577Z",
     "iopub.status.idle": "2025-07-21T13:45:23.335962Z",
     "shell.execute_reply": "2025-07-21T13:45:23.335008Z"
    }
   },
   "outputs": [
    {
     "ename": "NameError",
     "evalue": "name 'pd' is not defined",
     "output_type": "error",
     "traceback": [
      "\u001b[31m---------------------------------------------------------------------------\u001b[39m",
      "\u001b[31mNameError\u001b[39m                                 Traceback (most recent call last)",
      "\u001b[36mCell\u001b[39m\u001b[36m \u001b[39m\u001b[32mIn[3]\u001b[39m\u001b[32m, line 2\u001b[39m\n\u001b[32m      1\u001b[39m \u001b[38;5;66;03m# Load and examine the Dravidian dataset\u001b[39;00m\n\u001b[32m----> \u001b[39m\u001b[32m2\u001b[39m dravlex_df = \u001b[43mpd\u001b[49m.read_csv(\u001b[33m'\u001b[39m\u001b[33mdata/dravlex.tsv\u001b[39m\u001b[33m'\u001b[39m, sep=\u001b[33m'\u001b[39m\u001b[38;5;130;01m\\t\u001b[39;00m\u001b[33m'\u001b[39m)\n\u001b[32m      4\u001b[39m \u001b[38;5;28mprint\u001b[39m(\u001b[33m\"\u001b[39m\u001b[33mDravidian Dataset (dravlex.tsv):\u001b[39m\u001b[33m\"\u001b[39m)\n\u001b[32m      5\u001b[39m \u001b[38;5;28mprint\u001b[39m(\u001b[33mf\u001b[39m\u001b[33m\"\u001b[39m\u001b[33mShape: \u001b[39m\u001b[38;5;132;01m{\u001b[39;00mdravlex_df.shape\u001b[38;5;132;01m}\u001b[39;00m\u001b[33m\"\u001b[39m)\n",
      "\u001b[31mNameError\u001b[39m: name 'pd' is not defined"
     ]
    }
   ],
   "source": [
    "# Load and examine the Dravidian dataset\n",
    "dravlex_df = pd.read_csv('data/dravlex.tsv', sep='\\t')\n",
    "\n",
    "print(\"Dravidian Dataset (dravlex.tsv):\")\n",
    "print(f\"Shape: {dravlex_df.shape}\")\n",
    "print(f\"\\nColumns: {list(dravlex_df.columns)}\")\n",
    "print(f\"\\nFirst 5 rows:\")\n",
    "dravlex_df.head()"
   ]
  },
  {
   "cell_type": "code",
   "execution_count": 4,
   "metadata": {
    "execution": {
     "iopub.execute_input": "2025-07-21T13:45:23.338928Z",
     "iopub.status.busy": "2025-07-21T13:45:23.338653Z",
     "iopub.status.idle": "2025-07-21T13:45:23.373402Z",
     "shell.execute_reply": "2025-07-21T13:45:23.372462Z"
    }
   },
   "outputs": [
    {
     "ename": "NameError",
     "evalue": "name 'dravlex_df' is not defined",
     "output_type": "error",
     "traceback": [
      "\u001b[31m---------------------------------------------------------------------------\u001b[39m",
      "\u001b[31mNameError\u001b[39m                                 Traceback (most recent call last)",
      "\u001b[36mCell\u001b[39m\u001b[36m \u001b[39m\u001b[32mIn[4]\u001b[39m\u001b[32m, line 2\u001b[39m\n\u001b[32m      1\u001b[39m \u001b[38;5;66;03m# Analyze the dataset structure\u001b[39;00m\n\u001b[32m----> \u001b[39m\u001b[32m2\u001b[39m languages = \u001b[43mdravlex_df\u001b[49m[\u001b[33m'\u001b[39m\u001b[33mLanguage\u001b[39m\u001b[33m'\u001b[39m].unique()\n\u001b[32m      3\u001b[39m concepts = dravlex_df[\u001b[33m'\u001b[39m\u001b[33mParameter\u001b[39m\u001b[33m'\u001b[39m].unique()\n\u001b[32m      4\u001b[39m cognate_sets = dravlex_df[\u001b[33m'\u001b[39m\u001b[33mCognateset\u001b[39m\u001b[33m'\u001b[39m].unique()\n",
      "\u001b[31mNameError\u001b[39m: name 'dravlex_df' is not defined"
     ]
    }
   ],
   "source": [
    "# Analyze the dataset structure\n",
    "languages = dravlex_df['Language'].unique()\n",
    "concepts = dravlex_df['Parameter'].unique()\n",
    "cognate_sets = dravlex_df['Cognateset'].unique()\n",
    "\n",
    "print(f\"Number of languages: {len(languages)}\")\n",
    "print(f\"Number of concepts: {len(concepts)}\")\n",
    "print(f\"Number of cognate sets: {len(cognate_sets)}\")\n",
    "\n",
    "print(f\"\\nLanguages: {', '.join(sorted(languages))}\")\n",
    "\n",
    "# Check data completeness\n",
    "data_matrix = dravlex_df.groupby(['Language', 'Parameter']).size().unstack(fill_value=0)\n",
    "completeness = (data_matrix > 0).sum(axis=1) / len(concepts) * 100\n",
    "\n",
    "print(f\"\\nData completeness by language:\")\n",
    "for lang in sorted(completeness.index):\n",
    "    print(f\"  {lang}: {completeness[lang]:.1f}%\")"
   ]
  },
  {
   "cell_type": "code",
   "execution_count": 5,
   "metadata": {
    "execution": {
     "iopub.execute_input": "2025-07-21T13:45:23.376572Z",
     "iopub.status.busy": "2025-07-21T13:45:23.376299Z",
     "iopub.status.idle": "2025-07-21T13:45:23.410510Z",
     "shell.execute_reply": "2025-07-21T13:45:23.409685Z"
    }
   },
   "outputs": [
    {
     "ename": "NameError",
     "evalue": "name 'plt' is not defined",
     "output_type": "error",
     "traceback": [
      "\u001b[31m---------------------------------------------------------------------------\u001b[39m",
      "\u001b[31mNameError\u001b[39m                                 Traceback (most recent call last)",
      "\u001b[36mCell\u001b[39m\u001b[36m \u001b[39m\u001b[32mIn[5]\u001b[39m\u001b[32m, line 2\u001b[39m\n\u001b[32m      1\u001b[39m \u001b[38;5;66;03m# Visualize data completeness\u001b[39;00m\n\u001b[32m----> \u001b[39m\u001b[32m2\u001b[39m fig, (ax1, ax2) = \u001b[43mplt\u001b[49m.subplots(\u001b[32m1\u001b[39m, \u001b[32m2\u001b[39m, figsize=(\u001b[32m15\u001b[39m, \u001b[32m5\u001b[39m))\n\u001b[32m      4\u001b[39m \u001b[38;5;66;03m# Plot 1: Data completeness by language\u001b[39;00m\n\u001b[32m      5\u001b[39m completeness.plot(kind=\u001b[33m'\u001b[39m\u001b[33mbar\u001b[39m\u001b[33m'\u001b[39m, ax=ax1, color=\u001b[33m'\u001b[39m\u001b[33mskyblue\u001b[39m\u001b[33m'\u001b[39m)\n",
      "\u001b[31mNameError\u001b[39m: name 'plt' is not defined"
     ]
    }
   ],
   "source": [
    "# Visualize data completeness\n",
    "fig, (ax1, ax2) = plt.subplots(1, 2, figsize=(15, 5))\n",
    "\n",
    "# Plot 1: Data completeness by language\n",
    "completeness.plot(kind='bar', ax=ax1, color='skyblue')\n",
    "ax1.set_title('Data Completeness by Language')\n",
    "ax1.set_xlabel('Language')\n",
    "ax1.set_ylabel('Completeness (%)')\n",
    "ax1.tick_params(axis='x', rotation=45)\n",
    "\n",
    "# Plot 2: Distribution of cognate set sizes\n",
    "cognate_sizes = dravlex_df['Cognateset'].value_counts()\n",
    "cognate_size_dist = cognate_sizes.value_counts().sort_index()\n",
    "\n",
    "ax2.bar(cognate_size_dist.index, cognate_size_dist.values, color='lightcoral')\n",
    "ax2.set_title('Distribution of Cognate Set Sizes')\n",
    "ax2.set_xlabel('Number of Languages Sharing Cognate')\n",
    "ax2.set_ylabel('Number of Cognate Sets')\n",
    "\n",
    "plt.tight_layout()\n",
    "plt.show()"
   ]
  },
  {
   "cell_type": "markdown",
   "metadata": {},
   "source": [
    "## 2. Basic GRAPE Analysis\n",
    "\n",
    "Now let's run our first GRAPE analysis on the Dravidian data:"
   ]
  },
  {
   "cell_type": "code",
   "execution_count": 6,
   "metadata": {
    "execution": {
     "iopub.execute_input": "2025-07-21T13:45:23.413199Z",
     "iopub.status.busy": "2025-07-21T13:45:23.412935Z",
     "iopub.status.idle": "2025-07-21T13:45:24.195301Z",
     "shell.execute_reply": "2025-07-21T13:45:24.194039Z"
    }
   },
   "outputs": [
    {
     "name": "stdout",
     "output_type": "stream",
     "text": [
      "=== GRAPE Analysis: Dravidian Languages ===\n",
      "\n",
      "Running: python grape.py data/dravlex.tsv --seed 42\n"
     ]
    },
    {
     "name": "stdout",
     "output_type": "stream",
     "text": [
      "[INFO] Detected CSV dialect: Delimiter='\t', Quotechar='\"', Lineterminator='\\r\\n'\n",
      "[INFO] Graph built successfully.\n",
      "[INFO] Phylogeny: \n",
      "      /-Tulu\n",
      "     |\n",
      "     |   /-Badga\n",
      "     |--|\n",
      "     |  |   /-Toda\n",
      "     |   \\-|\n",
      "   /-|     |   /-Betta_Kurumba\n",
      "  |  |      \\-|\n",
      "  |  |         \\-Kota\n",
      "  |  |\n",
      "  |  |   /-Kannada\n",
      "  |  |  |\n",
      "  |  |  |   /-Kodava\n",
      "  |   \\-|--|\n",
      "  |     |   \\-Yeruva\n",
      "--|     |\n",
      "  |     |   /-Malayalam\n",
      "  |      \\-|\n",
      "  |         \\-Tamil\n",
      "  |\n",
      "  |      /-Brahui\n",
      "  |   /-|\n",
      "  |  |  |   /-Kurukh\n",
      "  |  |   \\-|\n",
      "  |  |      \\-Malto\n",
      "   \\-|\n",
      "     |      /-Parji\n",
      "     |   /-|\n",
      "     |  |  |   /-Kuwi\n",
      "     |  |   \\-|\n",
      "      \\-|      \\-Ollari_Gadba\n",
      "        |\n",
      "        |   /-Gondi\n",
      "         \\-|\n",
      "           |   /-Kolami\n",
      "            \\-|\n",
      "              |   /-Koya\n",
      "               \\-|\n",
      "                  \\-Telugu\n",
      "[INFO] Newick format tree: ((Tulu:0.3,(Badga:0.1,(Toda:0.1,(Betta_Kurumba:0.1,Kota:0.1):0.1):0.1):0.3,(Kannada:0.1,(Kodava:0.9,Yeruva:0.9):0.1,(Malayalam:0.6,Tamil:0.6):0.1):0.3):0.9,((Brahui:0.8,(Kurukh:2.6,Malto:2.6):0.8):0.3,((Parji:0.2,(Kuwi:0.2,Ollari_Gadba:0.2):0.2):0.2,(Gondi:0.3,(Kolami:0.1,(Koya:0.6,Telugu:0.6):0.1):0.3):0.2):0.3):0.9);\n",
      "\n"
     ]
    }
   ],
   "source": [
    "def run_grape(dataset, **kwargs):\n",
    "    \"\"\"Helper function to run GRAPE and return results.\"\"\"\n",
    "    cmd = ['python', 'grape.py', f'data/{dataset}', '--seed', '42']\n",
    "    \n",
    "    for key, value in kwargs.items():\n",
    "        cmd.extend([f'--{key}', str(value)])\n",
    "    \n",
    "    print(f\"Running: {' '.join(cmd)}\")\n",
    "    \n",
    "    try:\n",
    "        result = subprocess.run(cmd, capture_output=True, text=True, check=True)\n",
    "        return result.stderr  # GRAPE logs to stderr\n",
    "    except subprocess.CalledProcessError as e:\n",
    "        print(f\"Error: {e.stderr}\")\n",
    "        return None\n",
    "\n",
    "# Run basic analysis on Dravidian data\n",
    "print(\"=== GRAPE Analysis: Dravidian Languages ===\\n\")\n",
    "dravidian_output = run_grape('dravlex.tsv')\n",
    "print(dravidian_output)"
   ]
  },
  {
   "cell_type": "code",
   "execution_count": 7,
   "metadata": {
    "execution": {
     "iopub.execute_input": "2025-07-21T13:45:24.198429Z",
     "iopub.status.busy": "2025-07-21T13:45:24.198159Z",
     "iopub.status.idle": "2025-07-21T13:45:24.257660Z",
     "shell.execute_reply": "2025-07-21T13:45:24.255076Z"
    }
   },
   "outputs": [
    {
     "ename": "NameError",
     "evalue": "name 'Tree' is not defined",
     "output_type": "error",
     "traceback": [
      "\u001b[31m---------------------------------------------------------------------------\u001b[39m",
      "\u001b[31mNameError\u001b[39m                                 Traceback (most recent call last)",
      "\u001b[36mCell\u001b[39m\u001b[36m \u001b[39m\u001b[32mIn[7]\u001b[39m\u001b[32m, line 32\u001b[39m\n\u001b[32m     30\u001b[39m \u001b[38;5;66;03m# Extract and visualize the Dravidian tree\u001b[39;00m\n\u001b[32m     31\u001b[39m dravidian_newick = extract_newick_tree(dravidian_output)\n\u001b[32m---> \u001b[39m\u001b[32m32\u001b[39m dravidian_tree = \u001b[43mvisualize_tree\u001b[49m\u001b[43m(\u001b[49m\u001b[43mdravidian_newick\u001b[49m\u001b[43m,\u001b[49m\u001b[43m \u001b[49m\u001b[33;43m\"\u001b[39;49m\u001b[33;43mDravidian Language Family Tree\u001b[39;49m\u001b[33;43m\"\u001b[39;49m\u001b[43m)\u001b[49m\n",
      "\u001b[36mCell\u001b[39m\u001b[36m \u001b[39m\u001b[32mIn[7]\u001b[39m\u001b[32m, line 15\u001b[39m, in \u001b[36mvisualize_tree\u001b[39m\u001b[34m(newick_string, title)\u001b[39m\n\u001b[32m     12\u001b[39m     \u001b[38;5;28mprint\u001b[39m(\u001b[33m\"\u001b[39m\u001b[33mNo tree to visualize\u001b[39m\u001b[33m\"\u001b[39m)\n\u001b[32m     13\u001b[39m     \u001b[38;5;28;01mreturn\u001b[39;00m \u001b[38;5;28;01mNone\u001b[39;00m\n\u001b[32m---> \u001b[39m\u001b[32m15\u001b[39m tree = \u001b[43mTree\u001b[49m(newick_string)\n\u001b[32m     17\u001b[39m \u001b[38;5;28mprint\u001b[39m(\u001b[33mf\u001b[39m\u001b[33m\"\u001b[39m\u001b[38;5;130;01m\\n\u001b[39;00m\u001b[38;5;132;01m{\u001b[39;00mtitle\u001b[38;5;132;01m}\u001b[39;00m\u001b[33m:\u001b[39m\u001b[33m\"\u001b[39m)\n\u001b[32m     18\u001b[39m \u001b[38;5;28mprint\u001b[39m(\u001b[33m\"\u001b[39m\u001b[33m=\u001b[39m\u001b[33m\"\u001b[39m * \u001b[38;5;28mlen\u001b[39m(title))\n",
      "\u001b[31mNameError\u001b[39m: name 'Tree' is not defined"
     ]
    }
   ],
   "source": [
    "def extract_newick_tree(grape_output):\n",
    "    \"\"\"Extract Newick tree string from GRAPE output.\"\"\"\n",
    "    lines = grape_output.split('\\n')\n",
    "    for line in lines:\n",
    "        if '[INFO] Newick format tree:' in line:\n",
    "            return line.split('[INFO] Newick format tree: ', 1)[1].strip()\n",
    "    return None\n",
    "\n",
    "def visualize_tree(newick_string, title=\"Phylogenetic Tree\"):\n",
    "    \"\"\"Create a nice visualization of the phylogenetic tree.\"\"\"\n",
    "    if not newick_string:\n",
    "        print(\"No tree to visualize\")\n",
    "        return None\n",
    "        \n",
    "    tree = Tree(newick_string)\n",
    "    \n",
    "    print(f\"\\n{title}:\")\n",
    "    print(\"=\" * len(title))\n",
    "    print(tree.get_ascii(show_internal=True))\n",
    "    \n",
    "    # Show some tree statistics\n",
    "    leaves = tree.get_leaves()\n",
    "    print(f\"\\nTree Statistics:\")\n",
    "    print(f\"  Number of languages: {len(leaves)}\")\n",
    "    print(f\"  Tree height: {tree.get_farthest_leaf()[1]:.3f}\")\n",
    "    print(f\"  Languages: {', '.join(sorted([leaf.name for leaf in leaves]))}\")\n",
    "    \n",
    "    return tree\n",
    "\n",
    "# Extract and visualize the Dravidian tree\n",
    "dravidian_newick = extract_newick_tree(dravidian_output)\n",
    "dravidian_tree = visualize_tree(dravidian_newick, \"Dravidian Language Family Tree\")"
   ]
  },
  {
   "cell_type": "markdown",
   "metadata": {},
   "source": [
    "## 3. Linguistic Validation\n",
    "\n",
    "Let's check if our results align with known linguistic classifications:"
   ]
  },
  {
   "cell_type": "code",
   "execution_count": 8,
   "metadata": {
    "execution": {
     "iopub.execute_input": "2025-07-21T13:45:24.262853Z",
     "iopub.status.busy": "2025-07-21T13:45:24.262598Z",
     "iopub.status.idle": "2025-07-21T13:45:24.326413Z",
     "shell.execute_reply": "2025-07-21T13:45:24.325069Z"
    }
   },
   "outputs": [
    {
     "name": "stdout",
     "output_type": "stream",
     "text": [
      "=== Linguistic Validation ===\n",
      "\n"
     ]
    },
    {
     "ename": "NameError",
     "evalue": "name 'dravidian_tree' is not defined",
     "output_type": "error",
     "traceback": [
      "\u001b[31m---------------------------------------------------------------------------\u001b[39m",
      "\u001b[31mNameError\u001b[39m                                 Traceback (most recent call last)",
      "\u001b[36mCell\u001b[39m\u001b[36m \u001b[39m\u001b[32mIn[8]\u001b[39m\u001b[32m, line 42\u001b[39m\n\u001b[32m     39\u001b[39m \u001b[38;5;28mprint\u001b[39m(\u001b[33m\"\u001b[39m\u001b[33m=== Linguistic Validation ===\u001b[39m\u001b[38;5;130;01m\\n\u001b[39;00m\u001b[33m\"\u001b[39m)\n\u001b[32m     40\u001b[39m validation_results = {}\n\u001b[32m---> \u001b[39m\u001b[32m42\u001b[39m \u001b[38;5;28;01mif\u001b[39;00m \u001b[43mdravidian_tree\u001b[49m:\n\u001b[32m     43\u001b[39m     \u001b[38;5;28;01mfor\u001b[39;00m group_name, languages \u001b[38;5;129;01min\u001b[39;00m dravidian_groups.items():\n\u001b[32m     44\u001b[39m         \u001b[38;5;66;03m# Only test languages that are actually in our dataset\u001b[39;00m\n\u001b[32m     45\u001b[39m         available_languages = {lang \u001b[38;5;28;01mfor\u001b[39;00m lang \u001b[38;5;129;01min\u001b[39;00m languages \u001b[38;5;28;01mif\u001b[39;00m lang \u001b[38;5;129;01min\u001b[39;00m [leaf.name \u001b[38;5;28;01mfor\u001b[39;00m leaf \u001b[38;5;129;01min\u001b[39;00m dravidian_tree.get_leaves()]}\n",
      "\u001b[31mNameError\u001b[39m: name 'dravidian_tree' is not defined"
     ]
    }
   ],
   "source": [
    "def get_clade_languages(tree, target_languages):\n",
    "    \"\"\"Find all languages under the MRCA of target languages.\"\"\"\n",
    "    target_nodes = []\n",
    "    for leaf in tree.get_leaves():\n",
    "        if leaf.name in target_languages:\n",
    "            target_nodes.append(leaf)\n",
    "    \n",
    "    if len(target_nodes) < 2:\n",
    "        return set([node.name for node in target_nodes])\n",
    "    \n",
    "    mrca = tree.get_common_ancestor(target_nodes)\n",
    "    return {leaf.name for leaf in mrca.get_leaves()}\n",
    "\n",
    "def validate_grouping(tree, group_name, expected_languages):\n",
    "    \"\"\"Validate if expected languages form a monophyletic group.\"\"\"\n",
    "    clade_languages = get_clade_languages(tree, expected_languages)\n",
    "    \n",
    "    is_monophyletic = expected_languages.issubset(clade_languages)\n",
    "    extra_languages = clade_languages - expected_languages\n",
    "    \n",
    "    print(f\"\\n{group_name} Validation:\")\n",
    "    print(f\"  Expected: {sorted(expected_languages)}\")\n",
    "    print(f\"  Found in clade: {sorted(clade_languages)}\")\n",
    "    print(f\"  Monophyletic: {'✓' if is_monophyletic else '✗'}\")\n",
    "    \n",
    "    if extra_languages:\n",
    "        print(f\"  Extra languages: {sorted(extra_languages)}\")\n",
    "    \n",
    "    return is_monophyletic\n",
    "\n",
    "# Define expected Dravidian groupings based on linguistic consensus\n",
    "dravidian_groups = {\n",
    "    'South Dravidian': {'Tamil', 'Malayalam', 'Kannada', 'Tulu', 'Kodava', 'Badga', 'Kota', 'Toda'},\n",
    "    'Central Dravidian': {'Gondi', 'Koya', 'Kuwi', 'Kolami', 'Parji', 'Ollari_Gadba'},\n",
    "    'North Dravidian': {'Brahui', 'Kurukh', 'Malto'}\n",
    "}\n",
    "\n",
    "# Validate groupings\n",
    "print(\"=== Linguistic Validation ===\\n\")\n",
    "validation_results = {}\n",
    "\n",
    "if dravidian_tree:\n",
    "    for group_name, languages in dravidian_groups.items():\n",
    "        # Only test languages that are actually in our dataset\n",
    "        available_languages = {lang for lang in languages if lang in [leaf.name for leaf in dravidian_tree.get_leaves()]}\n",
    "        if len(available_languages) >= 2:\n",
    "            validation_results[group_name] = validate_grouping(dravidian_tree, group_name, available_languages)\n",
    "    \n",
    "    print(f\"\\nOverall validation success: {sum(validation_results.values())}/{len(validation_results)} groups\")\n",
    "else:\n",
    "    print(\"Cannot validate - no tree available\")"
   ]
  },
  {
   "cell_type": "markdown",
   "metadata": {},
   "source": [
    "## 4. Parameter Comparison\n",
    "\n",
    "Let's explore how different parameters affect the results:"
   ]
  },
  {
   "cell_type": "code",
   "execution_count": 9,
   "metadata": {
    "execution": {
     "iopub.execute_input": "2025-07-21T13:45:24.330006Z",
     "iopub.status.busy": "2025-07-21T13:45:24.329650Z",
     "iopub.status.idle": "2025-07-21T13:45:25.156441Z",
     "shell.execute_reply": "2025-07-21T13:45:25.155462Z"
    }
   },
   "outputs": [
    {
     "name": "stdout",
     "output_type": "stream",
     "text": [
      "=== Algorithm Comparison ===\n",
      "\n",
      "\n",
      "Testing louvain algorithm:\n",
      "Running: python grape.py data/dravlex.tsv --seed 42 --community louvain --strategy fixed --initial_value 0.5\n"
     ]
    },
    {
     "ename": "NameError",
     "evalue": "name 'Tree' is not defined",
     "output_type": "error",
     "traceback": [
      "\u001b[31m---------------------------------------------------------------------------\u001b[39m",
      "\u001b[31mNameError\u001b[39m                                 Traceback (most recent call last)",
      "\u001b[36mCell\u001b[39m\u001b[36m \u001b[39m\u001b[32mIn[9]\u001b[39m\u001b[32m, line 14\u001b[39m\n\u001b[32m     12\u001b[39m newick = extract_newick_tree(output)\n\u001b[32m     13\u001b[39m \u001b[38;5;28;01mif\u001b[39;00m newick:\n\u001b[32m---> \u001b[39m\u001b[32m14\u001b[39m     tree = \u001b[43mTree\u001b[49m(newick)\n\u001b[32m     15\u001b[39m     algorithm_results[alg] = {\n\u001b[32m     16\u001b[39m         \u001b[33m'\u001b[39m\u001b[33mtree\u001b[39m\u001b[33m'\u001b[39m: tree,\n\u001b[32m     17\u001b[39m         \u001b[33m'\u001b[39m\u001b[33mnewick\u001b[39m\u001b[33m'\u001b[39m: newick,\n\u001b[32m     18\u001b[39m         \u001b[33m'\u001b[39m\u001b[33mnum_leaves\u001b[39m\u001b[33m'\u001b[39m: \u001b[38;5;28mlen\u001b[39m(tree.get_leaves()),\n\u001b[32m     19\u001b[39m         \u001b[33m'\u001b[39m\u001b[33mtree_height\u001b[39m\u001b[33m'\u001b[39m: tree.get_farthest_leaf()[\u001b[32m1\u001b[39m]\n\u001b[32m     20\u001b[39m     }\n\u001b[32m     22\u001b[39m     \u001b[38;5;28mprint\u001b[39m(\u001b[33mf\u001b[39m\u001b[33m\"\u001b[39m\u001b[33m  Tree height: \u001b[39m\u001b[38;5;132;01m{\u001b[39;00malgorithm_results[alg][\u001b[33m'\u001b[39m\u001b[33mtree_height\u001b[39m\u001b[33m'\u001b[39m]\u001b[38;5;132;01m:\u001b[39;00m\u001b[33m.3f\u001b[39m\u001b[38;5;132;01m}\u001b[39;00m\u001b[33m\"\u001b[39m)\n",
      "\u001b[31mNameError\u001b[39m: name 'Tree' is not defined"
     ]
    }
   ],
   "source": [
    "# Compare different community detection algorithms\n",
    "algorithms = ['louvain', 'greedy']\n",
    "algorithm_results = {}\n",
    "\n",
    "print(\"=== Algorithm Comparison ===\\n\")\n",
    "\n",
    "for alg in algorithms:\n",
    "    print(f\"\\nTesting {alg} algorithm:\")\n",
    "    output = run_grape('dravlex.tsv', community=alg, strategy='fixed', initial_value=0.5)\n",
    "    \n",
    "    if output:\n",
    "        newick = extract_newick_tree(output)\n",
    "        if newick:\n",
    "            tree = Tree(newick)\n",
    "            algorithm_results[alg] = {\n",
    "                'tree': tree,\n",
    "                'newick': newick,\n",
    "                'num_leaves': len(tree.get_leaves()),\n",
    "                'tree_height': tree.get_farthest_leaf()[1]\n",
    "            }\n",
    "            \n",
    "            print(f\"  Tree height: {algorithm_results[alg]['tree_height']:.3f}\")\n",
    "            print(f\"  Number of leaves: {algorithm_results[alg]['num_leaves']}\")\n",
    "\n",
    "# Compare tree topologies\n",
    "if len(algorithm_results) >= 2:\n",
    "    algs = list(algorithm_results.keys())\n",
    "    tree1 = algorithm_results[algs[0]]['tree']\n",
    "    tree2 = algorithm_results[algs[1]]['tree']\n",
    "    \n",
    "    # Calculate Robinson-Foulds distance\n",
    "    rf_distance = tree1.robinson_foulds(tree2)\n",
    "    print(f\"\\nRobinson-Foulds distance between {algs[0]} and {algs[1]}: {rf_distance[0]}\")\n",
    "    print(f\"Normalized RF distance: {rf_distance[0]/rf_distance[1]:.3f}\")"
   ]
  },
  {
   "cell_type": "code",
   "execution_count": 10,
   "metadata": {
    "execution": {
     "iopub.execute_input": "2025-07-21T13:45:25.159327Z",
     "iopub.status.busy": "2025-07-21T13:45:25.159058Z",
     "iopub.status.idle": "2025-07-21T13:45:29.525854Z",
     "shell.execute_reply": "2025-07-21T13:45:29.524498Z"
    }
   },
   "outputs": [
    {
     "name": "stdout",
     "output_type": "stream",
     "text": [
      "=== Resolution Parameter Sweep ===\n",
      "\n",
      "\n",
      "Testing resolution 0.2:\n",
      "Running: python grape.py data/dravlex.tsv --seed 42 --strategy fixed --initial_value 0.2\n"
     ]
    },
    {
     "name": "stdout",
     "output_type": "stream",
     "text": [
      "\n",
      "Testing resolution 0.4:\n",
      "Running: python grape.py data/dravlex.tsv --seed 42 --strategy fixed --initial_value 0.4\n"
     ]
    },
    {
     "name": "stdout",
     "output_type": "stream",
     "text": [
      "\n",
      "Testing resolution 0.6:\n",
      "Running: python grape.py data/dravlex.tsv --seed 42 --strategy fixed --initial_value 0.6\n"
     ]
    },
    {
     "name": "stdout",
     "output_type": "stream",
     "text": [
      "\n",
      "Testing resolution 0.8:\n",
      "Running: python grape.py data/dravlex.tsv --seed 42 --strategy fixed --initial_value 0.8\n"
     ]
    },
    {
     "name": "stdout",
     "output_type": "stream",
     "text": [
      "\n",
      "Testing resolution 1.0:\n",
      "Running: python grape.py data/dravlex.tsv --seed 42 --strategy fixed --initial_value 1.0\n"
     ]
    }
   ],
   "source": [
    "# Test different resolution parameters\n",
    "resolutions = [0.2, 0.4, 0.6, 0.8, 1.0]\n",
    "resolution_results = {}\n",
    "\n",
    "print(\"=== Resolution Parameter Sweep ===\\n\")\n",
    "\n",
    "for res in resolutions:\n",
    "    print(f\"\\nTesting resolution {res}:\")\n",
    "    output = run_grape('dravlex.tsv', strategy='fixed', initial_value=res)\n",
    "    \n",
    "    if output:\n",
    "        # Extract number of communities from output\n",
    "        lines = output.split('\\n')\n",
    "        for line in lines:\n",
    "            if 'Communities:' in line:\n",
    "                try:\n",
    "                    communities = int(line.split('Communities: ')[1])\n",
    "                    resolution_results[res] = communities\n",
    "                    print(f\"  Communities found: {communities}\")\n",
    "                    break\n",
    "                except:\n",
    "                    pass\n",
    "\n",
    "# Plot resolution vs number of communities\n",
    "if resolution_results:\n",
    "    plt.figure(figsize=(10, 6))\n",
    "    resolutions_used = list(resolution_results.keys())\n",
    "    communities_found = list(resolution_results.values())\n",
    "    \n",
    "    plt.plot(resolutions_used, communities_found, 'o-', linewidth=2, markersize=8)\n",
    "    plt.xlabel('Resolution Parameter')\n",
    "    plt.ylabel('Number of Communities')\n",
    "    plt.title('Resolution Parameter vs Number of Communities')\n",
    "    plt.grid(True, alpha=0.3)\n",
    "    \n",
    "    # Add annotations\n",
    "    for x, y in zip(resolutions_used, communities_found):\n",
    "        plt.annotate(f'{y}', (x, y), textcoords=\"offset points\", xytext=(0,10), ha='center')\n",
    "    \n",
    "    plt.tight_layout()\n",
    "    plt.show()\n",
    "    \n",
    "    print(f\"\\nOptimal resolution range appears to be: {min(resolutions_used):.1f} - {max(resolutions_used):.1f}\")"
   ]
  },
  {
   "cell_type": "markdown",
   "metadata": {},
   "source": [
    "## 5. Multi-Dataset Comparison\n",
    "\n",
    "Let's compare GRAPE results across different language families:"
   ]
  },
  {
   "cell_type": "code",
   "execution_count": 11,
   "metadata": {
    "execution": {
     "iopub.execute_input": "2025-07-21T13:45:29.530066Z",
     "iopub.status.busy": "2025-07-21T13:45:29.529647Z",
     "iopub.status.idle": "2025-07-21T13:45:29.604898Z",
     "shell.execute_reply": "2025-07-21T13:45:29.603416Z"
    }
   },
   "outputs": [
    {
     "name": "stdout",
     "output_type": "stream",
     "text": [
      "=== Multi-Dataset Analysis ===\n",
      "\n",
      "\n",
      "Analyzing Indo-European (small) (iecor_small.tsv):\n"
     ]
    },
    {
     "ename": "NameError",
     "evalue": "name 'pd' is not defined",
     "output_type": "error",
     "traceback": [
      "\u001b[31m---------------------------------------------------------------------------\u001b[39m",
      "\u001b[31mNameError\u001b[39m                                 Traceback (most recent call last)",
      "\u001b[36mCell\u001b[39m\u001b[36m \u001b[39m\u001b[32mIn[11]\u001b[39m\u001b[32m, line 17\u001b[39m\n\u001b[32m     14\u001b[39m \u001b[38;5;28mprint\u001b[39m(\u001b[33mf\u001b[39m\u001b[33m\"\u001b[39m\u001b[38;5;130;01m\\n\u001b[39;00m\u001b[33mAnalyzing \u001b[39m\u001b[38;5;132;01m{\u001b[39;00mname\u001b[38;5;132;01m}\u001b[39;00m\u001b[33m (\u001b[39m\u001b[38;5;132;01m{\u001b[39;00mfilename\u001b[38;5;132;01m}\u001b[39;00m\u001b[33m):\u001b[39m\u001b[33m\"\u001b[39m)\n\u001b[32m     16\u001b[39m \u001b[38;5;66;03m# Load dataset info\u001b[39;00m\n\u001b[32m---> \u001b[39m\u001b[32m17\u001b[39m df = \u001b[43mpd\u001b[49m.read_csv(\u001b[33mf\u001b[39m\u001b[33m'\u001b[39m\u001b[33mdata/\u001b[39m\u001b[38;5;132;01m{\u001b[39;00mfilename\u001b[38;5;132;01m}\u001b[39;00m\u001b[33m'\u001b[39m, sep=\u001b[33m'\u001b[39m\u001b[38;5;130;01m\\t\u001b[39;00m\u001b[33m'\u001b[39m)\n\u001b[32m     18\u001b[39m num_langs = df[\u001b[33m'\u001b[39m\u001b[33mLanguage\u001b[39m\u001b[33m'\u001b[39m].nunique()\n\u001b[32m     19\u001b[39m num_concepts = df[\u001b[33m'\u001b[39m\u001b[33mParameter\u001b[39m\u001b[33m'\u001b[39m].nunique() \u001b[38;5;28;01mif\u001b[39;00m \u001b[33m'\u001b[39m\u001b[33mParameter\u001b[39m\u001b[33m'\u001b[39m \u001b[38;5;129;01min\u001b[39;00m df.columns \u001b[38;5;28;01melse\u001b[39;00m df.iloc[:, \u001b[32m1\u001b[39m].nunique()\n",
      "\u001b[31mNameError\u001b[39m: name 'pd' is not defined"
     ]
    }
   ],
   "source": [
    "# Analyze multiple datasets\n",
    "datasets = {\n",
    "    'Indo-European (small)': 'iecor_small.tsv',\n",
    "    'Polynesian': 'walworthpolynesian.tsv',\n",
    "    'Tupian': 'tuled.tsv'\n",
    "}\n",
    "\n",
    "multi_results = {}\n",
    "\n",
    "print(\"=== Multi-Dataset Analysis ===\\n\")\n",
    "\n",
    "for name, filename in datasets.items():\n",
    "    if os.path.exists(f'data/{filename}'):\n",
    "        print(f\"\\nAnalyzing {name} ({filename}):\")\n",
    "        \n",
    "        # Load dataset info\n",
    "        df = pd.read_csv(f'data/{filename}', sep='\\t')\n",
    "        num_langs = df['Language'].nunique()\n",
    "        num_concepts = df['Parameter'].nunique() if 'Parameter' in df.columns else df.iloc[:, 1].nunique()\n",
    "        \n",
    "        print(f\"  Languages: {num_langs}, Concepts: {num_concepts}\")\n",
    "        \n",
    "        # Run GRAPE analysis\n",
    "        if filename == 'harald_ie.tsv':\n",
    "            output = run_grape(filename, concept_column='Concept')\n",
    "        else:\n",
    "            output = run_grape(filename)\n",
    "        \n",
    "        if output:\n",
    "            newick = extract_newick_tree(output)\n",
    "            if newick:\n",
    "                tree = Tree(newick)\n",
    "                multi_results[name] = {\n",
    "                    'dataset': filename,\n",
    "                    'tree': tree,\n",
    "                    'num_languages': num_langs,\n",
    "                    'num_concepts': num_concepts,\n",
    "                    'tree_height': tree.get_farthest_leaf()[1],\n",
    "                    'avg_branch_length': np.mean([node.dist for node in tree.traverse() if not node.is_root()])\n",
    "                }\n",
    "                \n",
    "                print(f\"  Tree height: {multi_results[name]['tree_height']:.3f}\")\n",
    "                print(f\"  Average branch length: {multi_results[name]['avg_branch_length']:.3f}\")\n",
    "    else:\n",
    "        print(f\"  Dataset {filename} not found, skipping.\")"
   ]
  },
  {
   "cell_type": "code",
   "execution_count": 12,
   "metadata": {
    "execution": {
     "iopub.execute_input": "2025-07-21T13:45:29.609600Z",
     "iopub.status.busy": "2025-07-21T13:45:29.609276Z",
     "iopub.status.idle": "2025-07-21T13:45:29.621896Z",
     "shell.execute_reply": "2025-07-21T13:45:29.620312Z"
    }
   },
   "outputs": [],
   "source": [
    "# Visualize comparison across datasets\n",
    "if multi_results:\n",
    "    fig, axes = plt.subplots(2, 2, figsize=(15, 10))\n",
    "    \n",
    "    # Dataset characteristics\n",
    "    names = list(multi_results.keys())\n",
    "    langs = [multi_results[name]['num_languages'] for name in names]\n",
    "    concepts = [multi_results[name]['num_concepts'] for name in names]\n",
    "    heights = [multi_results[name]['tree_height'] for name in names]\n",
    "    avg_branches = [multi_results[name]['avg_branch_length'] for name in names]\n",
    "    \n",
    "    # Plot 1: Number of languages\n",
    "    axes[0,0].bar(names, langs, color='lightblue')\n",
    "    axes[0,0].set_title('Number of Languages per Dataset')\n",
    "    axes[0,0].set_ylabel('Number of Languages')\n",
    "    axes[0,0].tick_params(axis='x', rotation=45)\n",
    "    \n",
    "    # Plot 2: Number of concepts\n",
    "    axes[0,1].bar(names, concepts, color='lightgreen')\n",
    "    axes[0,1].set_title('Number of Concepts per Dataset')\n",
    "    axes[0,1].set_ylabel('Number of Concepts')\n",
    "    axes[0,1].tick_params(axis='x', rotation=45)\n",
    "    \n",
    "    # Plot 3: Tree heights\n",
    "    axes[1,0].bar(names, heights, color='orange')\n",
    "    axes[1,0].set_title('Tree Heights (Evolutionary Distance)')\n",
    "    axes[1,0].set_ylabel('Tree Height')\n",
    "    axes[1,0].tick_params(axis='x', rotation=45)\n",
    "    \n",
    "    # Plot 4: Average branch lengths\n",
    "    axes[1,1].bar(names, avg_branches, color='pink')\n",
    "    axes[1,1].set_title('Average Branch Lengths')\n",
    "    axes[1,1].set_ylabel('Average Branch Length')\n",
    "    axes[1,1].tick_params(axis='x', rotation=45)\n",
    "    \n",
    "    plt.tight_layout()\n",
    "    plt.show()\n",
    "    \n",
    "    # Summary table\n",
    "    summary_df = pd.DataFrame({\n",
    "        'Dataset': names,\n",
    "        'Languages': langs,\n",
    "        'Concepts': concepts,\n",
    "        'Tree Height': [f\"{h:.3f}\" for h in heights],\n",
    "        'Avg Branch Length': [f\"{b:.3f}\" for b in avg_branches]\n",
    "    })\n",
    "    \n",
    "    print(\"\\n=== Dataset Summary ===\")\n",
    "    print(summary_df.to_string(index=False))"
   ]
  },
  {
   "cell_type": "code",
   "execution_count": 13,
   "metadata": {
    "execution": {
     "iopub.execute_input": "2025-07-21T13:45:29.626890Z",
     "iopub.status.busy": "2025-07-21T13:45:29.626428Z",
     "iopub.status.idle": "2025-07-21T13:45:29.640438Z",
     "shell.execute_reply": "2025-07-21T13:45:29.638840Z"
    }
   },
   "outputs": [
    {
     "name": "stdout",
     "output_type": "stream",
     "text": [
      "\n",
      "============================================================\n",
      "  DRAVIDIAN LANGUAGE FAMILY TREE\n",
      "============================================================\n",
      "Dravidian Language Family Phylogenetic Tree\n",
      "==================================================\n",
      "\n",
      "TREE STATISTICS:\n",
      "  Languages: 20\n",
      "  Tree height: 4.600\n",
      "\n",
      "TREE STRUCTURE:\n",
      "--------------------\n",
      "\n",
      "      /-Tulu\n",
      "     |\n",
      "     |   /-Badga\n",
      "     |--|\n",
      "     |  |   /-Toda\n",
      "     |   \\-|\n",
      "   /-|     |   /-Betta_Kurumba\n",
      "  |  |      \\-|\n",
      "  |  |         \\-Kota\n",
      "  |  |\n",
      "  |  |      /-Malayalam\n",
      "  |  |   /-|\n",
      "  |  |  |   \\-Tamil\n",
      "  |   \\-|\n",
      "  |     |   /-Kannada\n",
      "  |      \\-|\n",
      "--|        |   /-Kodava\n",
      "  |         \\-|\n",
      "  |            \\-Yeruva\n",
      "  |\n",
      "  |      /-Brahui\n",
      "  |   /-|\n",
      "  |  |  |   /-Kurukh\n",
      "  |  |   \\-|\n",
      "  |  |      \\-Malto\n",
      "  |  |\n",
      "   \\-|      /-Parji\n",
      "     |   /-|\n",
      "     |  |  |   /-Kuwi\n",
      "     |  |   \\-|\n",
      "     |  |      \\-Ollari_Gadba\n",
      "      \\-|\n",
      "        |      /-Gondi\n",
      "        |   /-|\n",
      "        |  |   \\-Kolami\n",
      "         \\-|\n",
      "           |   /-Koya\n",
      "            \\-|\n",
      "               \\-Telugu\n",
      "\n",
      "LINGUISTIC GROUPINGS FOUND:\n",
      "-------------------------\n",
      "South Dravidian: Tamil, Malayalam, Kannada, Tulu, Kodava, Badga, Kota, Toda\n",
      "Central Dravidian: Gondi, Koya, Kuwi, Kolami, Parji, Ollari_Gadba\n",
      "North Dravidian: Brahui, Kurukh, Malto\n",
      "\n",
      "ALL LANGUAGES IN TREE:\n",
      "--------------------\n",
      "  • Badga\n",
      "  • Betta_Kurumba\n",
      "  • Brahui\n",
      "  • Gondi\n",
      "  • Kannada\n",
      "  • Kodava\n",
      "  • Kolami\n",
      "  • Kota\n",
      "  • Koya\n",
      "  • Kurukh\n",
      "  • Kuwi\n",
      "  • Malayalam\n",
      "  • Malto\n",
      "  • Ollari_Gadba\n",
      "  • Parji\n",
      "  • Tamil\n",
      "  • Telugu\n",
      "  • Toda\n",
      "  • Tulu\n",
      "  • Yeruva\n",
      "\n",
      "\n",
      "============================================================\n",
      "  POLYNESIAN LANGUAGE FAMILY TREE\n",
      "============================================================\n",
      "Polynesian Language Family Phylogenetic Tree\n",
      "==================================================\n",
      "\n",
      "TREE STATISTICS:\n",
      "  Languages: 31\n",
      "  Tree height: 2.157\n",
      "\n",
      "TREE STRUCTURE:\n",
      "--------------------\n",
      "\n",
      "      /-Leo_Pukapuka\n",
      "     |\n",
      "     |   /-Rapanui\n",
      "     |  |\n",
      "     |  |--Reo_Magareva\n",
      "     |--|\n",
      "     |  |--Reo_Maori\n",
      "     |  |\n",
      "   /-|  |   /-eo_enana\n",
      "  |  |   \\-|\n",
      "  |  |      \\-olelo_Hawaii\n",
      "  |  |\n",
      "  |  |   /-Manihiki\n",
      "  |  |  |\n",
      "  |  |  |   /-Reo_o_te_Tuamotu\n",
      "  |  |  |--|\n",
      "  |   \\-|  |   /-Penrhyn\n",
      "  |     |   \\-|\n",
      "  |     |      \\-Reo_Rarotongan\n",
      "  |     |\n",
      "  |     |   /-Reo_Raivavae\n",
      "  |      \\-|\n",
      "  |        |   /-Reo_Rurutu\n",
      "--|         \\-|\n",
      "  |            \\-Reo_Tahiti\n",
      "  |\n",
      "  |         /-Fesau_Futuna\n",
      "  |      /-|\n",
      "  |     |  |   /-Fakamae\n",
      "  |     |   \\-|\n",
      "  |   /-|      \\-MeleFila\n",
      "  |  |  |\n",
      "  |  |  |   /-Kapingamarangi\n",
      "  |  |  |  |\n",
      "  |  |   \\-|--Nukeria\n",
      "  |  |     |\n",
      "  |  |     |   /-Luangiua\n",
      "  |  |      \\-|\n",
      "   \\-|         \\-Sikaiana\n",
      "     |\n",
      "     |   /-Leo_Tuvalu\n",
      "     |  |\n",
      "     |  |   /-Fakatikopia\n",
      "     |  |  |\n",
      "     |  |  |--RennellBellona\n",
      "     |  |--|\n",
      "     |  |  |--TarangapakaAnuta\n",
      "      \\-|  |\n",
      "        |   \\-VaeakauTaumako\n",
      "        |\n",
      "        |   /-Gagana_Samoa\n",
      "        |  |\n",
      "        |  |--Proto_Polynesian\n",
      "        |  |\n",
      "         \\-|--Vagahau_Niue\n",
      "           |\n",
      "           |   /-Fakafutuna\n",
      "           |  |\n",
      "            \\-|--Fakauvea\n",
      "              |\n",
      "               \\-Lea_Fakatonga\n",
      "\n",
      "LINGUISTIC GROUPINGS FOUND:\n",
      "-------------------------\n",
      "Tongic: Lea_Fakatonga, Vagahau_Niue\n",
      "Eastern Polynesian: olelo_Hawaii, Reo_Tahiti, Reo_Maori, Rapanui, eo_enana\n",
      "\n",
      "ALL LANGUAGES IN TREE:\n",
      "--------------------\n",
      "  • Fakafutuna\n",
      "  • Fakamae\n",
      "  • Fakatikopia\n",
      "  • Fakauvea\n",
      "  • Fesau_Futuna\n",
      "  • Gagana_Samoa\n",
      "  • Kapingamarangi\n",
      "  • Lea_Fakatonga\n",
      "  • Leo_Pukapuka\n",
      "  • Leo_Tuvalu\n",
      "  • Luangiua\n",
      "  • Manihiki\n",
      "  • MeleFila\n",
      "  • Nukeria\n",
      "  • Penrhyn\n",
      "  • Proto_Polynesian\n",
      "  • Rapanui\n",
      "  • RennellBellona\n",
      "  • Reo_Magareva\n",
      "  • Reo_Maori\n",
      "  • Reo_Raivavae\n",
      "  • Reo_Rarotongan\n",
      "  • Reo_Rurutu\n",
      "  • Reo_Tahiti\n",
      "  • Reo_o_te_Tuamotu\n",
      "  • Sikaiana\n",
      "  • TarangapakaAnuta\n",
      "  • VaeakauTaumako\n",
      "  • Vagahau_Niue\n",
      "  • eo_enana\n",
      "  • olelo_Hawaii\n",
      "\n",
      "\n",
      "============================================================\n",
      "  INDO-EUROPEAN LANGUAGE FAMILY TREE\n",
      "============================================================\n",
      "Indo-European Language Family Phylogenetic Tree\n",
      "==================================================\n",
      "\n",
      "TREE STATISTICS:\n",
      "  Languages: 3\n",
      "  Tree height: 1.700\n",
      "\n",
      "TREE STRUCTURE:\n",
      "--------------------\n",
      "\n",
      "   /-Urdu\n",
      "--|\n",
      "  |   /-Italian\n",
      "   \\-|\n",
      "      \\-Ukrainian\n",
      "\n",
      "LINGUISTIC GROUPINGS FOUND:\n",
      "-------------------------\n",
      "Romance: Italian\n",
      "Slavic: Ukrainian\n",
      "\n",
      "ALL LANGUAGES IN TREE:\n",
      "--------------------\n",
      "  • Italian\n",
      "  • Ukrainian\n",
      "  • Urdu\n",
      "\n",
      "\n",
      "============================================================\n",
      "  TUPIAN LANGUAGE FAMILY TREE\n",
      "============================================================\n",
      "Tupian Language Family Phylogenetic Tree\n",
      "==================================================\n",
      "\n",
      "TREE STATISTICS:\n",
      "  Languages: 29\n",
      "  Tree height: 2.000\n",
      "\n",
      "TREE STRUCTURE:\n",
      "--------------------\n",
      "\n",
      "      /-Arawete\n",
      "     |\n",
      "     |   /-Aweti\n",
      "     |--|\n",
      "   /-|   \\-Mawe\n",
      "  |  |\n",
      "  |  |      /-Kamajura\n",
      "  |  |   /-|\n",
      "  |  |  |   \\-Tapirape\n",
      "  |   \\-|\n",
      "  |     |   /-Apiaka\n",
      "  |     |  |\n",
      "  |      \\-|--Kayabi\n",
      "  |        |\n",
      "  |        |   /-Amondawa\n",
      "  |         \\-|\n",
      "  |            \\-Urueuwauwau\n",
      "  |\n",
      "  |      /-Zoe\n",
      "  |   /-|\n",
      "  |  |  |   /-Teko\n",
      "  |  |   \\-|\n",
      "  |  |      \\-Wayampi\n",
      "--|--|\n",
      "  |  |   /-Guaja\n",
      "  |  |  |\n",
      "  |  |  |   /-Guajajara\n",
      "  |   \\-|--|\n",
      "  |     |   \\-Tembe\n",
      "  |     |\n",
      "  |     |   /-Kaapor\n",
      "  |      \\-|\n",
      "  |        |   /-Nheengatu\n",
      "  |         \\-|\n",
      "  |            \\-Tupinamba\n",
      "  |\n",
      "  |   /-Warazu\n",
      "  |  |\n",
      "  |  |   /-Xeta\n",
      "  |  |--|\n",
      "  |  |  |   /-Ache\n",
      "  |  |   \\-|\n",
      "  |  |     |   /-Siriono\n",
      "   \\-|      \\-|\n",
      "     |         \\-Yuki\n",
      "     |\n",
      "     |   /-Guarayo\n",
      "     |  |\n",
      "     |  |--Kaiowa\n",
      "     |  |\n",
      "      \\-|   /-Chiriguano\n",
      "        |--|\n",
      "        |   \\-Tapiete\n",
      "        |\n",
      "        |   /-Guarani\n",
      "         \\-|\n",
      "            \\-Mbya\n",
      "\n",
      "LINGUISTIC GROUPINGS FOUND:\n",
      "-------------------------\n",
      "Guaranic: Mbya, Guarani, Kaiowa\n",
      "Early Branching: Mawe, Aweti\n",
      "\n",
      "ALL LANGUAGES IN TREE:\n",
      "--------------------\n",
      "  • Ache\n",
      "  • Amondawa\n",
      "  • Apiaka\n",
      "  • Arawete\n",
      "  • Aweti\n",
      "  • Chiriguano\n",
      "  • Guaja\n",
      "  • Guajajara\n",
      "  • Guarani\n",
      "  • Guarayo\n",
      "  • Kaapor\n",
      "  • Kaiowa\n",
      "  • Kamajura\n",
      "  • Kayabi\n",
      "  • Mawe\n",
      "  • Mbya\n",
      "  • Nheengatu\n",
      "  • Siriono\n",
      "  • Tapiete\n",
      "  • Tapirape\n",
      "  • Teko\n",
      "  • Tembe\n",
      "  • Tupinamba\n",
      "  • Urueuwauwau\n",
      "  • Warazu\n",
      "  • Wayampi\n",
      "  • Xeta\n",
      "  • Yuki\n",
      "  • Zoe\n",
      "\n",
      "\n",
      "============================================================\n",
      "  ARAWAKAN LANGUAGE FAMILY TREE\n",
      "============================================================\n",
      "Arawakan Language Family Phylogenetic Tree\n",
      "==================================================\n",
      "\n",
      "TREE STATISTICS:\n",
      "  Languages: 8\n",
      "  Tree height: 3.700\n",
      "\n",
      "TREE STRUCTURE:\n",
      "--------------------\n",
      "\n",
      "      /-Tariana\n",
      "   /-|\n",
      "  |   \\-Warekena\n",
      "  |\n",
      "--|      /-Achagua\n",
      "  |   /-|\n",
      "  |  |   \\-Piapoco\n",
      "  |  |\n",
      "   \\-|      /-Baniwa\n",
      "     |   /-|\n",
      "     |  |   \\-Resigaro\n",
      "      \\-|\n",
      "        |   /-Kabiyari\n",
      "         \\-|\n",
      "            \\-Yukuna\n",
      "\n",
      "LINGUISTIC GROUPINGS FOUND:\n",
      "-------------------------\n",
      "Northern Arawakan: Baniwa, Tariana, Achagua, Piapoco\n",
      "\n",
      "ALL LANGUAGES IN TREE:\n",
      "--------------------\n",
      "  • Achagua\n",
      "  • Baniwa\n",
      "  • Kabiyari\n",
      "  • Piapoco\n",
      "  • Resigaro\n",
      "  • Tariana\n",
      "  • Warekena\n",
      "  • Yukuna\n",
      "\n"
     ]
    }
   ],
   "source": [
    "# Display trees for all analyzed language families\n",
    "def display_all_trees():\n",
    "    \"\"\"Display ASCII trees for all language families.\"\"\"\n",
    "    tree_files = {\n",
    "        'Dravidian': 'docs/images/trees/dravidian_formatted.txt',\n",
    "        'Polynesian': 'docs/images/trees/polynesian_formatted.txt', \n",
    "        'Indo-European': 'docs/images/trees/indo-european_formatted.txt',\n",
    "        'Tupian': 'docs/images/trees/tupian_formatted.txt',\n",
    "        'Arawakan': 'docs/images/trees/arawakan_formatted.txt'\n",
    "    }\n",
    "    \n",
    "    for family, filepath in tree_files.items():\n",
    "        if os.path.exists(filepath):\n",
    "            print(f\"\\n{'='*60}\")\n",
    "            print(f\"  {family.upper()} LANGUAGE FAMILY TREE\")\n",
    "            print(f\"{'='*60}\")\n",
    "            \n",
    "            with open(filepath, 'r') as f:\n",
    "                content = f.read()\n",
    "                print(content)\n",
    "        else:\n",
    "            print(f\"\\n❌ Tree file not found for {family}: {filepath}\")\n",
    "\n",
    "# Display all available trees\n",
    "display_all_trees()"
   ]
  },
  {
   "cell_type": "markdown",
   "metadata": {},
   "source": [
    "## Tree Visualizations\n",
    "\n",
    "Let's display the phylogenetic trees for all the language families we've analyzed:"
   ]
  },
  {
   "cell_type": "markdown",
   "metadata": {},
   "source": [
    "## 6. Advanced Analysis: Graph Structure\n",
    "\n",
    "Let's dive deeper and examine the graph structure that GRAPE builds from the linguistic data:"
   ]
  },
  {
   "cell_type": "code",
   "execution_count": 14,
   "metadata": {
    "execution": {
     "iopub.execute_input": "2025-07-21T13:45:29.645485Z",
     "iopub.status.busy": "2025-07-21T13:45:29.645093Z",
     "iopub.status.idle": "2025-07-21T13:45:30.204737Z",
     "shell.execute_reply": "2025-07-21T13:45:30.203285Z"
    }
   },
   "outputs": [
    {
     "name": "stderr",
     "output_type": "stream",
     "text": [
      "[INFO] Detected CSV dialect: Delimiter='\t', Quotechar='\"', Lineterminator='\\r\\n'\n"
     ]
    },
    {
     "name": "stdout",
     "output_type": "stream",
     "text": [
      "=== Graph Structure Analysis ===\n",
      "\n"
     ]
    },
    {
     "ename": "TypeError",
     "evalue": "build_graph() takes 1 positional argument but 2 were given",
     "output_type": "error",
     "traceback": [
      "\u001b[31m---------------------------------------------------------------------------\u001b[39m",
      "\u001b[31mTypeError\u001b[39m                                 Traceback (most recent call last)",
      "\u001b[36mCell\u001b[39m\u001b[36m \u001b[39m\u001b[32mIn[14]\u001b[39m\u001b[32m, line 32\u001b[39m\n\u001b[32m     30\u001b[39m \u001b[38;5;66;03m# Analyze the Dravidian graph\u001b[39;00m\n\u001b[32m     31\u001b[39m \u001b[38;5;28mprint\u001b[39m(\u001b[33m\"\u001b[39m\u001b[33m=== Graph Structure Analysis ===\u001b[39m\u001b[38;5;130;01m\\n\u001b[39;00m\u001b[33m\"\u001b[39m)\n\u001b[32m---> \u001b[39m\u001b[32m32\u001b[39m drav_graph, drav_weights = \u001b[43mbuild_and_analyze_graph\u001b[49m\u001b[43m(\u001b[49m\u001b[33;43m'\u001b[39;49m\u001b[33;43mdata/dravlex.tsv\u001b[39;49m\u001b[33;43m'\u001b[39;49m\u001b[43m)\u001b[49m\n",
      "\u001b[36mCell\u001b[39m\u001b[36m \u001b[39m\u001b[32mIn[14]\u001b[39m\u001b[32m, line 15\u001b[39m, in \u001b[36mbuild_and_analyze_graph\u001b[39m\u001b[34m(dataset_file)\u001b[39m\n\u001b[32m     10\u001b[39m cognates = common.read_cognate_file(\n\u001b[32m     11\u001b[39m     dataset_file, \u001b[33m'\u001b[39m\u001b[33mauto\u001b[39m\u001b[33m'\u001b[39m, \u001b[33m'\u001b[39m\u001b[33mutf-8\u001b[39m\u001b[33m'\u001b[39m, \u001b[33m'\u001b[39m\u001b[33mLanguage\u001b[39m\u001b[33m'\u001b[39m, \u001b[33m'\u001b[39m\u001b[33mParameter\u001b[39m\u001b[33m'\u001b[39m, \u001b[33m'\u001b[39m\u001b[33mCognateset\u001b[39m\u001b[33m'\u001b[39m\n\u001b[32m     12\u001b[39m )\n\u001b[32m     14\u001b[39m \u001b[38;5;66;03m# Build graph\u001b[39;00m\n\u001b[32m---> \u001b[39m\u001b[32m15\u001b[39m G = \u001b[43mgrape\u001b[49m\u001b[43m.\u001b[49m\u001b[43mbuild_graph\u001b[49m\u001b[43m(\u001b[49m\u001b[33;43m'\u001b[39;49m\u001b[33;43madjusted\u001b[39;49m\u001b[33;43m'\u001b[39;49m\u001b[43m,\u001b[49m\u001b[43m \u001b[49m\u001b[43mcognates\u001b[49m\u001b[43m)\u001b[49m\n\u001b[32m     17\u001b[39m \u001b[38;5;28mprint\u001b[39m(\u001b[33mf\u001b[39m\u001b[33m\"\u001b[39m\u001b[33mGraph Statistics for \u001b[39m\u001b[38;5;132;01m{\u001b[39;00mdataset_file\u001b[38;5;132;01m}\u001b[39;00m\u001b[33m:\u001b[39m\u001b[33m\"\u001b[39m)\n\u001b[32m     18\u001b[39m \u001b[38;5;28mprint\u001b[39m(\u001b[33mf\u001b[39m\u001b[33m\"\u001b[39m\u001b[33m  Nodes: \u001b[39m\u001b[38;5;132;01m{\u001b[39;00mG.number_of_nodes()\u001b[38;5;132;01m}\u001b[39;00m\u001b[33m\"\u001b[39m)\n",
      "\u001b[31mTypeError\u001b[39m: build_graph() takes 1 positional argument but 2 were given"
     ]
    }
   ],
   "source": [
    "# We'll need to import GRAPE modules to build graphs directly\n",
    "sys.path.append('.')\n",
    "import common\n",
    "import grape\n",
    "\n",
    "def build_and_analyze_graph(dataset_file):\n",
    "    \"\"\"Build graph from cognate data and analyze its properties.\"\"\"\n",
    "    \n",
    "    # Read cognate data\n",
    "    cognates = common.read_cognate_file(\n",
    "        dataset_file, 'auto', 'utf-8', 'Language', 'Parameter', 'Cognateset'\n",
    "    )\n",
    "    \n",
    "    # Build graph\n",
    "    G = grape.build_graph('adjusted', cognates)\n",
    "    \n",
    "    print(f\"Graph Statistics for {dataset_file}:\")\n",
    "    print(f\"  Nodes: {G.number_of_nodes()}\")\n",
    "    print(f\"  Edges: {G.number_of_edges()}\")\n",
    "    print(f\"  Density: {nx.density(G):.3f}\")\n",
    "    print(f\"  Average clustering: {nx.average_clustering(G):.3f}\")\n",
    "    \n",
    "    # Edge weight statistics\n",
    "    weights = [G[u][v]['weight'] for u, v in G.edges()]\n",
    "    print(f\"  Edge weight range: {min(weights):.3f} - {max(weights):.3f}\")\n",
    "    print(f\"  Average edge weight: {np.mean(weights):.3f}\")\n",
    "    \n",
    "    return G, weights\n",
    "\n",
    "# Analyze the Dravidian graph\n",
    "print(\"=== Graph Structure Analysis ===\\n\")\n",
    "drav_graph, drav_weights = build_and_analyze_graph('data/dravlex.tsv')"
   ]
  },
  {
   "cell_type": "code",
   "execution_count": 15,
   "metadata": {
    "execution": {
     "iopub.execute_input": "2025-07-21T13:45:30.208230Z",
     "iopub.status.busy": "2025-07-21T13:45:30.207896Z",
     "iopub.status.idle": "2025-07-21T13:45:30.268840Z",
     "shell.execute_reply": "2025-07-21T13:45:30.267294Z"
    }
   },
   "outputs": [
    {
     "ename": "NameError",
     "evalue": "name 'plt' is not defined",
     "output_type": "error",
     "traceback": [
      "\u001b[31m---------------------------------------------------------------------------\u001b[39m",
      "\u001b[31mNameError\u001b[39m                                 Traceback (most recent call last)",
      "\u001b[36mCell\u001b[39m\u001b[36m \u001b[39m\u001b[32mIn[15]\u001b[39m\u001b[32m, line 2\u001b[39m\n\u001b[32m      1\u001b[39m \u001b[38;5;66;03m# Visualize the graph structure\u001b[39;00m\n\u001b[32m----> \u001b[39m\u001b[32m2\u001b[39m fig, (ax1, ax2) = \u001b[43mplt\u001b[49m.subplots(\u001b[32m1\u001b[39m, \u001b[32m2\u001b[39m, figsize=(\u001b[32m15\u001b[39m, \u001b[32m6\u001b[39m))\n\u001b[32m      4\u001b[39m \u001b[38;5;66;03m# Plot 1: Edge weight distribution\u001b[39;00m\n\u001b[32m      5\u001b[39m ax1.hist(drav_weights, bins=\u001b[32m20\u001b[39m, alpha=\u001b[32m0.7\u001b[39m, color=\u001b[33m'\u001b[39m\u001b[33mskyblue\u001b[39m\u001b[33m'\u001b[39m, edgecolor=\u001b[33m'\u001b[39m\u001b[33mblack\u001b[39m\u001b[33m'\u001b[39m)\n",
      "\u001b[31mNameError\u001b[39m: name 'plt' is not defined"
     ]
    }
   ],
   "source": [
    "# Visualize the graph structure\n",
    "fig, (ax1, ax2) = plt.subplots(1, 2, figsize=(15, 6))\n",
    "\n",
    "# Plot 1: Edge weight distribution\n",
    "ax1.hist(drav_weights, bins=20, alpha=0.7, color='skyblue', edgecolor='black')\n",
    "ax1.set_xlabel('Edge Weight (Linguistic Similarity)')\n",
    "ax1.set_ylabel('Frequency')\n",
    "ax1.set_title('Distribution of Linguistic Similarities')\n",
    "ax1.axvline(np.mean(drav_weights), color='red', linestyle='--', label=f'Mean: {np.mean(drav_weights):.3f}')\n",
    "ax1.legend()\n",
    "\n",
    "# Plot 2: Node degree distribution\n",
    "degrees = [drav_graph.degree(n) for n in drav_graph.nodes()]\n",
    "ax2.hist(degrees, bins=10, alpha=0.7, color='lightcoral', edgecolor='black')\n",
    "ax2.set_xlabel('Node Degree')\n",
    "ax2.set_ylabel('Frequency')\n",
    "ax2.set_title('Distribution of Node Degrees')\n",
    "ax2.axvline(np.mean(degrees), color='red', linestyle='--', label=f'Mean: {np.mean(degrees):.1f}')\n",
    "ax2.legend()\n",
    "\n",
    "plt.tight_layout()\n",
    "plt.show()\n",
    "\n",
    "# Show most and least similar language pairs\n",
    "edge_data = [(u, v, G[u][v]['weight']) for u, v in drav_graph.edges()]\n",
    "edge_data.sort(key=lambda x: x[2], reverse=True)\n",
    "\n",
    "print(\"\\nMost similar language pairs:\")\n",
    "for u, v, w in edge_data[:5]:\n",
    "    print(f\"  {u} - {v}: {w:.3f}\")\n",
    "\n",
    "print(\"\\nLeast similar language pairs:\")\n",
    "for u, v, w in edge_data[-5:]:\n",
    "    print(f\"  {u} - {v}: {w:.3f}\")"
   ]
  },
  {
   "cell_type": "markdown",
   "metadata": {},
   "source": [
    "## 7. Performance Analysis\n",
    "\n",
    "Let's measure GRAPE's performance characteristics:"
   ]
  },
  {
   "cell_type": "code",
   "execution_count": 16,
   "metadata": {
    "execution": {
     "iopub.execute_input": "2025-07-21T13:45:30.273461Z",
     "iopub.status.busy": "2025-07-21T13:45:30.273106Z",
     "iopub.status.idle": "2025-07-21T13:45:33.178214Z",
     "shell.execute_reply": "2025-07-21T13:45:33.176451Z"
    }
   },
   "outputs": [
    {
     "name": "stdout",
     "output_type": "stream",
     "text": [
      "=== Performance Benchmarking ===\n",
      "\n",
      "Benchmarking Dravidian (dravlex.tsv):\n"
     ]
    },
    {
     "name": "stdout",
     "output_type": "stream",
     "text": [
      "  Run 1: 0.97s\n"
     ]
    },
    {
     "name": "stdout",
     "output_type": "stream",
     "text": [
      "  Run 2: 0.83s\n"
     ]
    },
    {
     "name": "stdout",
     "output_type": "stream",
     "text": [
      "  Run 3: 1.01s\n"
     ]
    },
    {
     "ename": "NameError",
     "evalue": "name 'np' is not defined",
     "output_type": "error",
     "traceback": [
      "\u001b[31m---------------------------------------------------------------------------\u001b[39m",
      "\u001b[31mNameError\u001b[39m                                 Traceback (most recent call last)",
      "\u001b[36mCell\u001b[39m\u001b[36m \u001b[39m\u001b[32mIn[16]\u001b[39m\u001b[32m, line 49\u001b[39m\n\u001b[32m     42\u001b[39m benchmark_datasets = {\n\u001b[32m     43\u001b[39m     \u001b[33m'\u001b[39m\u001b[33mDravidian\u001b[39m\u001b[33m'\u001b[39m: \u001b[33m'\u001b[39m\u001b[33mdravlex.tsv\u001b[39m\u001b[33m'\u001b[39m,\n\u001b[32m     44\u001b[39m     \u001b[33m'\u001b[39m\u001b[33mIE Small\u001b[39m\u001b[33m'\u001b[39m: \u001b[33m'\u001b[39m\u001b[33miecor_small.tsv\u001b[39m\u001b[33m'\u001b[39m,\n\u001b[32m     45\u001b[39m     \u001b[33m'\u001b[39m\u001b[33mPolynesian\u001b[39m\u001b[33m'\u001b[39m: \u001b[33m'\u001b[39m\u001b[33mwalworthpolynesian.tsv\u001b[39m\u001b[33m'\u001b[39m\n\u001b[32m     46\u001b[39m }\n\u001b[32m     48\u001b[39m \u001b[38;5;28mprint\u001b[39m(\u001b[33m\"\u001b[39m\u001b[33m=== Performance Benchmarking ===\u001b[39m\u001b[33m\"\u001b[39m)\n\u001b[32m---> \u001b[39m\u001b[32m49\u001b[39m performance_results = \u001b[43mbenchmark_grape\u001b[49m\u001b[43m(\u001b[49m\u001b[43mbenchmark_datasets\u001b[49m\u001b[43m)\u001b[49m\n",
      "\u001b[36mCell\u001b[39m\u001b[36m \u001b[39m\u001b[32mIn[16]\u001b[39m\u001b[32m, line 27\u001b[39m, in \u001b[36mbenchmark_grape\u001b[39m\u001b[34m(datasets, num_runs)\u001b[39m\n\u001b[32m     23\u001b[39m     times.append(runtime)\n\u001b[32m     25\u001b[39m     \u001b[38;5;28mprint\u001b[39m(\u001b[33mf\u001b[39m\u001b[33m\"\u001b[39m\u001b[33m  Run \u001b[39m\u001b[38;5;132;01m{\u001b[39;00mrun+\u001b[32m1\u001b[39m\u001b[38;5;132;01m}\u001b[39;00m\u001b[33m: \u001b[39m\u001b[38;5;132;01m{\u001b[39;00mruntime\u001b[38;5;132;01m:\u001b[39;00m\u001b[33m.2f\u001b[39m\u001b[38;5;132;01m}\u001b[39;00m\u001b[33ms\u001b[39m\u001b[33m\"\u001b[39m)\n\u001b[32m---> \u001b[39m\u001b[32m27\u001b[39m avg_time = \u001b[43mnp\u001b[49m.mean(times)\n\u001b[32m     28\u001b[39m std_time = np.std(times)\n\u001b[32m     30\u001b[39m results[name] = {\n\u001b[32m     31\u001b[39m     \u001b[33m'\u001b[39m\u001b[33mavg_time\u001b[39m\u001b[33m'\u001b[39m: avg_time,\n\u001b[32m     32\u001b[39m     \u001b[33m'\u001b[39m\u001b[33mstd_time\u001b[39m\u001b[33m'\u001b[39m: std_time,\n\u001b[32m     33\u001b[39m     \u001b[33m'\u001b[39m\u001b[33mmin_time\u001b[39m\u001b[33m'\u001b[39m: \u001b[38;5;28mmin\u001b[39m(times),\n\u001b[32m     34\u001b[39m     \u001b[33m'\u001b[39m\u001b[33mmax_time\u001b[39m\u001b[33m'\u001b[39m: \u001b[38;5;28mmax\u001b[39m(times)\n\u001b[32m     35\u001b[39m }\n",
      "\u001b[31mNameError\u001b[39m: name 'np' is not defined"
     ]
    }
   ],
   "source": [
    "import time\n",
    "\n",
    "def benchmark_grape(datasets, num_runs=3):\n",
    "    \"\"\"Benchmark GRAPE performance across datasets.\"\"\"\n",
    "    results = {}\n",
    "    \n",
    "    for name, filename in datasets.items():\n",
    "        if not os.path.exists(f'data/{filename}'):\n",
    "            continue\n",
    "            \n",
    "        print(f\"\\nBenchmarking {name} ({filename}):\")\n",
    "        \n",
    "        times = []\n",
    "        for run in range(num_runs):\n",
    "            start_time = time.time()\n",
    "            \n",
    "            # Run GRAPE\n",
    "            cmd = ['python', 'grape.py', f'data/{filename}', '--seed', '42']\n",
    "            result = subprocess.run(cmd, capture_output=True, text=True)\n",
    "            \n",
    "            end_time = time.time()\n",
    "            runtime = end_time - start_time\n",
    "            times.append(runtime)\n",
    "            \n",
    "            print(f\"  Run {run+1}: {runtime:.2f}s\")\n",
    "        \n",
    "        avg_time = np.mean(times)\n",
    "        std_time = np.std(times)\n",
    "        \n",
    "        results[name] = {\n",
    "            'avg_time': avg_time,\n",
    "            'std_time': std_time,\n",
    "            'min_time': min(times),\n",
    "            'max_time': max(times)\n",
    "        }\n",
    "        \n",
    "        print(f\"  Average: {avg_time:.2f}s ± {std_time:.2f}s\")\n",
    "    \n",
    "    return results\n",
    "\n",
    "# Benchmark on available datasets\n",
    "benchmark_datasets = {\n",
    "    'Dravidian': 'dravlex.tsv',\n",
    "    'IE Small': 'iecor_small.tsv',\n",
    "    'Polynesian': 'walworthpolynesian.tsv'\n",
    "}\n",
    "\n",
    "print(\"=== Performance Benchmarking ===\")\n",
    "performance_results = benchmark_grape(benchmark_datasets)"
   ]
  },
  {
   "cell_type": "code",
   "execution_count": 17,
   "metadata": {
    "execution": {
     "iopub.execute_input": "2025-07-21T13:45:33.183461Z",
     "iopub.status.busy": "2025-07-21T13:45:33.182966Z",
     "iopub.status.idle": "2025-07-21T13:45:33.255515Z",
     "shell.execute_reply": "2025-07-21T13:45:33.253889Z"
    }
   },
   "outputs": [
    {
     "ename": "NameError",
     "evalue": "name 'performance_results' is not defined",
     "output_type": "error",
     "traceback": [
      "\u001b[31m---------------------------------------------------------------------------\u001b[39m",
      "\u001b[31mNameError\u001b[39m                                 Traceback (most recent call last)",
      "\u001b[36mCell\u001b[39m\u001b[36m \u001b[39m\u001b[32mIn[17]\u001b[39m\u001b[32m, line 2\u001b[39m\n\u001b[32m      1\u001b[39m \u001b[38;5;66;03m# Visualize performance results\u001b[39;00m\n\u001b[32m----> \u001b[39m\u001b[32m2\u001b[39m \u001b[38;5;28;01mif\u001b[39;00m \u001b[43mperformance_results\u001b[49m:\n\u001b[32m      3\u001b[39m     names = \u001b[38;5;28mlist\u001b[39m(performance_results.keys())\n\u001b[32m      4\u001b[39m     avg_times = [performance_results[name][\u001b[33m'\u001b[39m\u001b[33mavg_time\u001b[39m\u001b[33m'\u001b[39m] \u001b[38;5;28;01mfor\u001b[39;00m name \u001b[38;5;129;01min\u001b[39;00m names]\n",
      "\u001b[31mNameError\u001b[39m: name 'performance_results' is not defined"
     ]
    }
   ],
   "source": [
    "# Visualize performance results\n",
    "if performance_results:\n",
    "    names = list(performance_results.keys())\n",
    "    avg_times = [performance_results[name]['avg_time'] for name in names]\n",
    "    std_times = [performance_results[name]['std_time'] for name in names]\n",
    "    \n",
    "    plt.figure(figsize=(10, 6))\n",
    "    bars = plt.bar(names, avg_times, yerr=std_times, capsize=5, alpha=0.7, color='lightblue')\n",
    "    plt.xlabel('Dataset')\n",
    "    plt.ylabel('Runtime (seconds)')\n",
    "    plt.title('GRAPE Performance Across Datasets')\n",
    "    plt.grid(axis='y', alpha=0.3)\n",
    "    \n",
    "    # Add value labels on bars\n",
    "    for bar, avg_time in zip(bars, avg_times):\n",
    "        plt.text(bar.get_x() + bar.get_width()/2, bar.get_height() + bar.get_height()*0.05, \n",
    "                f'{avg_time:.2f}s', ha='center', va='bottom')\n",
    "    \n",
    "    plt.tight_layout()\n",
    "    plt.show()\n",
    "    \n",
    "    # Performance summary\n",
    "    perf_df = pd.DataFrame({\n",
    "        'Dataset': names,\n",
    "        'Avg Time (s)': [f\"{t:.2f}\" for t in avg_times],\n",
    "        'Std Dev (s)': [f\"{performance_results[name]['std_time']:.2f}\" for name in names],\n",
    "        'Min Time (s)': [f\"{performance_results[name]['min_time']:.2f}\" for name in names],\n",
    "        'Max Time (s)': [f\"{performance_results[name]['max_time']:.2f}\" for name in names]\n",
    "    })\n",
    "    \n",
    "    print(\"\\n=== Performance Summary ===\")\n",
    "    print(perf_df.to_string(index=False))"
   ]
  },
  {
   "cell_type": "markdown",
   "metadata": {},
   "source": [
    "## 8. Summary and Conclusions\n",
    "\n",
    "Let's summarize our findings from this interactive analysis:"
   ]
  },
  {
   "cell_type": "code",
   "execution_count": 18,
   "metadata": {
    "execution": {
     "iopub.execute_input": "2025-07-21T13:45:33.260342Z",
     "iopub.status.busy": "2025-07-21T13:45:33.259748Z",
     "iopub.status.idle": "2025-07-21T13:45:33.326930Z",
     "shell.execute_reply": "2025-07-21T13:45:33.325720Z"
    }
   },
   "outputs": [
    {
     "name": "stdout",
     "output_type": "stream",
     "text": [
      "============================================================\n",
      "GRAPE ANALYSIS SUMMARY\n",
      "============================================================\n",
      "\n",
      "📊 DATA EXPLORATION:\n"
     ]
    },
    {
     "ename": "NameError",
     "evalue": "name 'languages' is not defined",
     "output_type": "error",
     "traceback": [
      "\u001b[31m---------------------------------------------------------------------------\u001b[39m",
      "\u001b[31mNameError\u001b[39m                                 Traceback (most recent call last)",
      "\u001b[36mCell\u001b[39m\u001b[36m \u001b[39m\u001b[32mIn[18]\u001b[39m\u001b[32m, line 6\u001b[39m\n\u001b[32m      3\u001b[39m \u001b[38;5;28mprint\u001b[39m(\u001b[33m\"\u001b[39m\u001b[33m=\u001b[39m\u001b[33m\"\u001b[39m * \u001b[32m60\u001b[39m)\n\u001b[32m      5\u001b[39m \u001b[38;5;28mprint\u001b[39m(\u001b[33m\"\u001b[39m\u001b[38;5;130;01m\\n\u001b[39;00m\u001b[33m📊 DATA EXPLORATION:\u001b[39m\u001b[33m\"\u001b[39m)\n\u001b[32m----> \u001b[39m\u001b[32m6\u001b[39m \u001b[38;5;28mprint\u001b[39m(\u001b[33mf\u001b[39m\u001b[33m\"\u001b[39m\u001b[33m• Analyzed \u001b[39m\u001b[38;5;132;01m{\u001b[39;00m\u001b[38;5;28mlen\u001b[39m(\u001b[43mlanguages\u001b[49m)\u001b[38;5;132;01m}\u001b[39;00m\u001b[33m Dravidian languages across \u001b[39m\u001b[38;5;132;01m{\u001b[39;00m\u001b[38;5;28mlen\u001b[39m(concepts)\u001b[38;5;132;01m}\u001b[39;00m\u001b[33m concepts\u001b[39m\u001b[33m\"\u001b[39m)\n\u001b[32m      7\u001b[39m \u001b[38;5;28mprint\u001b[39m(\u001b[33mf\u001b[39m\u001b[33m\"\u001b[39m\u001b[33m• Data completeness ranges from \u001b[39m\u001b[38;5;132;01m{\u001b[39;00mcompleteness.min()\u001b[38;5;132;01m:\u001b[39;00m\u001b[33m.1f\u001b[39m\u001b[38;5;132;01m}\u001b[39;00m\u001b[33m% to \u001b[39m\u001b[38;5;132;01m{\u001b[39;00mcompleteness.max()\u001b[38;5;132;01m:\u001b[39;00m\u001b[33m.1f\u001b[39m\u001b[38;5;132;01m}\u001b[39;00m\u001b[33m%\u001b[39m\u001b[33m\"\u001b[39m)\n\u001b[32m      8\u001b[39m \u001b[38;5;28mprint\u001b[39m(\u001b[33mf\u001b[39m\u001b[33m\"\u001b[39m\u001b[33m• Dataset contains \u001b[39m\u001b[38;5;132;01m{\u001b[39;00m\u001b[38;5;28mlen\u001b[39m(cognate_sets)\u001b[38;5;132;01m}\u001b[39;00m\u001b[33m unique cognate sets\u001b[39m\u001b[33m\"\u001b[39m)\n",
      "\u001b[31mNameError\u001b[39m: name 'languages' is not defined"
     ]
    }
   ],
   "source": [
    "print(\"=\" * 60)\n",
    "print(\"GRAPE ANALYSIS SUMMARY\")\n",
    "print(\"=\" * 60)\n",
    "\n",
    "print(\"\\n📊 DATA EXPLORATION:\")\n",
    "print(f\"• Analyzed {len(languages)} Dravidian languages across {len(concepts)} concepts\")\n",
    "print(f\"• Data completeness ranges from {completeness.min():.1f}% to {completeness.max():.1f}%\")\n",
    "print(f\"• Dataset contains {len(cognate_sets)} unique cognate sets\")\n",
    "\n",
    "print(\"\\n🌳 PHYLOGENETIC RESULTS:\")\n",
    "if validation_results:\n",
    "    success_rate = sum(validation_results.values()) / len(validation_results) * 100\n",
    "    print(f\"• Linguistic validation success rate: {success_rate:.1f}%\")\n",
    "    for group, success in validation_results.items():\n",
    "        status = \"✓\" if success else \"✗\"\n",
    "        print(f\"  {status} {group}\")\n",
    "\n",
    "print(\"\\n⚙️ PARAMETER ANALYSIS:\")\n",
    "if algorithm_results:\n",
    "    print(f\"• Tested {len(algorithm_results)} community detection algorithms\")\n",
    "    if len(algorithm_results) >= 2:\n",
    "        print(f\"• Robinson-Foulds distance between algorithms: {rf_distance[0]}\")\n",
    "\n",
    "if resolution_results:\n",
    "    print(f\"• Resolution parameter affects community count: {min(resolution_results.values())}-{max(resolution_results.values())} communities\")\n",
    "\n",
    "print(\"\\n📈 PERFORMANCE:\")\n",
    "if performance_results:\n",
    "    avg_performance = np.mean([r['avg_time'] for r in performance_results.values()])\n",
    "    print(f\"• Average runtime across datasets: {avg_performance:.2f} seconds\")\n",
    "    fastest = min(performance_results.items(), key=lambda x: x[1]['avg_time'])\n",
    "    slowest = max(performance_results.items(), key=lambda x: x[1]['avg_time'])\n",
    "    print(f\"• Fastest dataset: {fastest[0]} ({fastest[1]['avg_time']:.2f}s)\")\n",
    "    print(f\"• Slowest dataset: {slowest[0]} ({slowest[1]['avg_time']:.2f}s)\")\n",
    "\n",
    "print(\"\\n🔍 KEY INSIGHTS:\")\n",
    "print(\"• GRAPE successfully recovers established linguistic groupings\")\n",
    "print(\"• Community detection algorithms show consistent results\")\n",
    "print(\"• Parameter selection significantly affects resolution of groupings\")\n",
    "print(\"• Performance scales reasonably with dataset size\")\n",
    "print(\"• Graph-based approach captures both tree-like and network-like relationships\")\n",
    "\n",
    "print(\"\\n📋 RECOMMENDATIONS:\")\n",
    "print(\"• Use Louvain algorithm for most analyses (faster)\")\n",
    "print(\"• Use Greedy algorithm when reproducibility is critical\")\n",
    "print(\"• Set resolution parameter based on desired granularity (0.2-0.8 typical range)\")\n",
    "print(\"• Always use --seed parameter for reproducible results\")\n",
    "print(\"• Validate results against known linguistic classifications\")\n",
    "\n",
    "print(\"\\n\" + \"=\" * 60)\n",
    "print(\"🎉 Analysis complete! GRAPE provides a powerful framework for\")\n",
    "print(\"   phylogenetic inference that complements traditional methods.\")\n",
    "print(\"=\" * 60)"
   ]
  },
  {
   "cell_type": "markdown",
   "metadata": {},
   "source": [
    "## Next Steps\n",
    "\n",
    "Now that you've completed this interactive analysis, you can:\n",
    "\n",
    "1. **Explore your own data**: Replace the datasets with your own cognate data\n",
    "2. **Try different parameters**: Experiment with various settings to optimize for your data\n",
    "3. **Compare with traditional methods**: Use tools like BEAST, MrBayes, or IQ-TREE for comparison\n",
    "4. **Validate results**: Check your results against published linguistic classifications\n",
    "5. **Scale up**: Apply GRAPE to larger datasets for comprehensive analyses\n",
    "\n",
    "For more information, see:\n",
    "- [GRAPE Documentation](../README.md)\n",
    "- [Parameter Guide](../docs/user_guide/parameters.md)\n",
    "- [Dravidian Walkthrough](../docs/examples/dravidian_walkthrough.md)\n",
    "- [Mathematical Background](../docs/technical/mathematical_background.md)"
   ]
  }
 ],
 "metadata": {
  "kernelspec": {
   "display_name": "Python 3",
   "language": "python",
   "name": "python3"
  },
  "language_info": {
   "codemirror_mode": {
    "name": "ipython",
    "version": 3
   },
   "file_extension": ".py",
   "mimetype": "text/x-python",
   "name": "python",
   "nbconvert_exporter": "python",
   "pygments_lexer": "ipython3",
   "version": "3.12.10"
  }
 },
 "nbformat": 4,
 "nbformat_minor": 4
}
