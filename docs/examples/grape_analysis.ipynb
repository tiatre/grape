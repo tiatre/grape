{
 "cells": [
  {
   "cell_type": "markdown",
   "id": "cell-0",
   "metadata": {},
   "source": [
    "# GRAPE: Interactive Phylogenetic Analysis\n",
    "\n",
    "This notebook provides an interactive introduction to GRAPE (Graph Analysis and Phylogenetic Estimation). You'll learn how to:\n",
    "\n",
    "1. **Load and explore linguistic data**\n",
    "2. **Run basic phylogenetic analysis**  \n",
    "3. **Visualize phylogenetic trees**\n",
    "4. **Compare different parameters**\n",
    "5. **View all language family results**\n",
    "\n",
    "## Prerequisites\n",
    "\n",
    "Make sure you have the required dependencies installed:\n",
    "```bash\n",
    "pip install networkx ete3 numpy pandas matplotlib seaborn\n",
    "```"
   ]
  },
  {
   "cell_type": "code",
   "execution_count": 1,
   "id": "cell-1",
   "metadata": {
    "execution": {
     "iopub.execute_input": "2025-07-21T13:55:25.697879Z",
     "iopub.status.busy": "2025-07-21T13:55:25.697520Z",
     "iopub.status.idle": "2025-07-21T13:55:26.412855Z",
     "shell.execute_reply": "2025-07-21T13:55:26.411300Z"
    }
   },
   "outputs": [
    {
     "name": "stdout",
     "output_type": "stream",
     "text": [
      "Current directory: /home/tiagot/tiatre/grape\n",
      "✓ All dependencies loaded successfully!\n"
     ]
    }
   ],
   "source": [
    "import os\n",
    "import sys\n",
    "import subprocess\n",
    "import pandas as pd\n",
    "import numpy as np\n",
    "from ete3 import Tree\n",
    "\n",
    "# Change to the main GRAPE directory\n",
    "os.chdir('../..')\n",
    "print(f\"Current directory: {os.getcwd()}\")\n",
    "print(\"✓ All dependencies loaded successfully!\")"
   ]
  },
  {
   "cell_type": "markdown",
   "id": "cell-2",
   "metadata": {},
   "source": [
    "## 1. Data Exploration\n",
    "\n",
    "Let's start by exploring our linguistic datasets. GRAPE works with cognate data in TSV format."
   ]
  },
  {
   "cell_type": "code",
   "execution_count": 2,
   "id": "cell-3",
   "metadata": {
    "execution": {
     "iopub.execute_input": "2025-07-21T13:55:26.416771Z",
     "iopub.status.busy": "2025-07-21T13:55:26.416294Z",
     "iopub.status.idle": "2025-07-21T13:55:26.450090Z",
     "shell.execute_reply": "2025-07-21T13:55:26.448533Z"
    }
   },
   "outputs": [
    {
     "name": "stdout",
     "output_type": "stream",
     "text": [
      "Available datasets: ['walworthpolynesian.tsv', 'tuled.tsv', 'chaconarawakan.tsv', 'iecor_german.tsv', 'iecor_small.tsv', 'dravlex.tsv', 'iecor_full.tsv', 'harald_ie.tsv']\n",
      "\n",
      "Dravidian Dataset (dravlex.tsv):\n",
      "Shape: (2114, 3)\n",
      "Columns: ['Language', 'Parameter', 'Cognateset']\n",
      "\n",
      "First 5 rows:\n"
     ]
    },
    {
     "data": {
      "text/html": [
       "<div>\n",
       "<style scoped>\n",
       "    .dataframe tbody tr th:only-of-type {\n",
       "        vertical-align: middle;\n",
       "    }\n",
       "\n",
       "    .dataframe tbody tr th {\n",
       "        vertical-align: top;\n",
       "    }\n",
       "\n",
       "    .dataframe thead th {\n",
       "        text-align: right;\n",
       "    }\n",
       "</style>\n",
       "<table border=\"1\" class=\"dataframe\">\n",
       "  <thead>\n",
       "    <tr style=\"text-align: right;\">\n",
       "      <th></th>\n",
       "      <th>Language</th>\n",
       "      <th>Parameter</th>\n",
       "      <th>Cognateset</th>\n",
       "    </tr>\n",
       "  </thead>\n",
       "  <tbody>\n",
       "    <tr>\n",
       "      <th>0</th>\n",
       "      <td>Badga</td>\n",
       "      <td>I</td>\n",
       "      <td>i.001</td>\n",
       "    </tr>\n",
       "    <tr>\n",
       "      <th>1</th>\n",
       "      <td>Betta_Kurumba</td>\n",
       "      <td>I</td>\n",
       "      <td>i.001</td>\n",
       "    </tr>\n",
       "    <tr>\n",
       "      <th>2</th>\n",
       "      <td>Brahui</td>\n",
       "      <td>I</td>\n",
       "      <td>i.001</td>\n",
       "    </tr>\n",
       "    <tr>\n",
       "      <th>3</th>\n",
       "      <td>Gondi</td>\n",
       "      <td>I</td>\n",
       "      <td>i.001</td>\n",
       "    </tr>\n",
       "    <tr>\n",
       "      <th>4</th>\n",
       "      <td>Kannada</td>\n",
       "      <td>I</td>\n",
       "      <td>i.001</td>\n",
       "    </tr>\n",
       "  </tbody>\n",
       "</table>\n",
       "</div>"
      ],
      "text/plain": [
       "        Language Parameter Cognateset\n",
       "0          Badga         I      i.001\n",
       "1  Betta_Kurumba         I      i.001\n",
       "2         Brahui         I      i.001\n",
       "3          Gondi         I      i.001\n",
       "4        Kannada         I      i.001"
      ]
     },
     "metadata": {},
     "output_type": "display_data"
    }
   ],
   "source": [
    "# List available datasets\n",
    "data_files = [f for f in os.listdir('data/') if f.endswith('.tsv')]\n",
    "print(f\"Available datasets: {data_files}\")\n",
    "\n",
    "# Load and examine the Dravidian dataset\n",
    "dravlex_df = pd.read_csv('data/dravlex.tsv', sep='\\t')\n",
    "\n",
    "print(f\"\\nDravidian Dataset (dravlex.tsv):\")\n",
    "print(f\"Shape: {dravlex_df.shape}\")\n",
    "print(f\"Columns: {list(dravlex_df.columns)}\")\n",
    "print(f\"\\nFirst 5 rows:\")\n",
    "display(dravlex_df.head())"
   ]
  },
  {
   "cell_type": "code",
   "execution_count": 3,
   "id": "cell-4",
   "metadata": {
    "execution": {
     "iopub.execute_input": "2025-07-21T13:55:26.453915Z",
     "iopub.status.busy": "2025-07-21T13:55:26.453416Z",
     "iopub.status.idle": "2025-07-21T13:55:26.484668Z",
     "shell.execute_reply": "2025-07-21T13:55:26.482861Z"
    }
   },
   "outputs": [
    {
     "name": "stdout",
     "output_type": "stream",
     "text": [
      "Number of languages: 20\n",
      "Number of concepts: 100\n",
      "Number of cognate sets: 778\n",
      "\n",
      "Languages: Badga, Betta_Kurumba, Brahui, Gondi, Kannada, Kodava, Kolami, Kota, Koya, Kurukh, Kuwi, Malayalam, Malto, Ollari_Gadba, Parji, Tamil, Telugu, Toda, Tulu, Yeruva\n",
      "\n",
      "Data completeness by language:\n",
      "  Badga: 95.0%\n",
      "  Betta_Kurumba: 100.0%\n",
      "  Brahui: 100.0%\n",
      "  Gondi: 100.0%\n",
      "  Kannada: 100.0%\n",
      "  Kodava: 100.0%\n",
      "  Kolami: 96.0%\n",
      "  Kota: 91.0%\n",
      "  Koya: 100.0%\n",
      "  Kurukh: 100.0%\n",
      "  Kuwi: 56.0%\n",
      "  Malayalam: 100.0%\n",
      "  Malto: 95.0%\n",
      "  Ollari_Gadba: 59.0%\n",
      "  Parji: 64.0%\n",
      "  Tamil: 100.0%\n",
      "  Telugu: 100.0%\n",
      "  Toda: 100.0%\n",
      "  Tulu: 98.0%\n",
      "  Yeruva: 99.0%\n"
     ]
    }
   ],
   "source": [
    "# Analyze the dataset structure\n",
    "languages = dravlex_df['Language'].unique()\n",
    "concepts = dravlex_df['Parameter'].unique()\n",
    "cognate_sets = dravlex_df['Cognateset'].unique()\n",
    "\n",
    "print(f\"Number of languages: {len(languages)}\")\n",
    "print(f\"Number of concepts: {len(concepts)}\")\n",
    "print(f\"Number of cognate sets: {len(cognate_sets)}\")\n",
    "\n",
    "print(f\"\\nLanguages: {', '.join(sorted(languages))}\")\n",
    "\n",
    "# Check data completeness\n",
    "data_matrix = dravlex_df.groupby(['Language', 'Parameter']).size().unstack(fill_value=0)\n",
    "completeness = (data_matrix > 0).sum(axis=1) / len(concepts) * 100\n",
    "\n",
    "print(f\"\\nData completeness by language:\")\n",
    "for lang in sorted(completeness.index):\n",
    "    print(f\"  {lang}: {completeness[lang]:.1f}%\")"
   ]
  },
  {
   "cell_type": "markdown",
   "id": "cell-5",
   "metadata": {},
   "source": [
    "## 2. Basic GRAPE Analysis\n",
    "\n",
    "Now let's run our first GRAPE analysis on the Dravidian data:"
   ]
  },
  {
   "cell_type": "code",
   "execution_count": 4,
   "id": "cell-6",
   "metadata": {
    "execution": {
     "iopub.execute_input": "2025-07-21T13:55:26.488714Z",
     "iopub.status.busy": "2025-07-21T13:55:26.488197Z",
     "iopub.status.idle": "2025-07-21T13:55:27.401544Z",
     "shell.execute_reply": "2025-07-21T13:55:27.399894Z"
    }
   },
   "outputs": [
    {
     "name": "stdout",
     "output_type": "stream",
     "text": [
      "=== GRAPE Analysis: Dravidian Languages ===\n",
      "\n",
      "Running: python grape.py data/dravlex.tsv --seed 42\n"
     ]
    },
    {
     "name": "stdout",
     "output_type": "stream",
     "text": [
      "[INFO] Detected CSV dialect: Delimiter='\t', Quotechar='\"', Lineterminator='\\r\\n'\n",
      "[INFO] Graph built successfully.\n",
      "[INFO] Phylogeny: \n",
      "         /-Badga\n",
      "      /-|\n",
      "     |  |   /-Toda\n",
      "     |   \\-|\n",
      "     |     |   /-Betta_Kurumba\n",
      "     |      \\-|\n",
      "   /-|         \\-Kota\n",
      "  |  |\n",
      "  |  |   /-Tulu\n",
      "  |  |  |\n",
      "  |  |  |   /-Malayalam\n",
      "  |   \\-|--|\n",
      "  |     |   \\-Tamil\n",
      "  |     |\n",
      "  |     |   /-Kannada\n",
      "--|      \\-|\n",
      "  |        |   /-Kodava\n",
      "  |         \\-|\n",
      "  |            \\-Yeruva\n",
      "  |\n",
      "  |      /-Brahui\n",
      "  |   /-|\n",
      "  |  |  |   /-Kurukh\n",
      "  |  |   \\-|\n",
      "  |  |      \\-Malto\n",
      "   \\-|\n",
      "     |      /-Parji\n",
      "     |   /-|\n",
      "     |  |  |   /-Kuwi\n",
      "     |  |   \\-|\n",
      "      \\-|      \\-Ollari_Gadba\n",
      "        |\n",
      "        |   /-Gondi\n",
      "         \\-|\n",
      "           |   /-Kolami\n",
      "            \\-|\n",
      "              |   /-Koya\n",
      "               \\-|\n",
      "                  \\-Telugu\n",
      "[INFO] Newick format tree: (((Badga:0.1,(Toda:0.1,(Betta_Kurumba:0.1,Kota:0.1):0.1):0.1):0.3,(Tulu:0.1,(Malayalam:0.6,Tamil:0.6):0.1,(Kannada:0.1,(Kodava:0.8,Yeruva:0.8):0.1):0.1):0.3):0.9,((Brahui:0.8,(Kurukh:2.6,Malto:2.6):0.8):0.3,((Parji:0.2,(Kuwi:0.2,Ollari_Gadba:0.2):0.2):0.2,(Gondi:0.3,(Kolami:0.1,(Koya:0.6,Telugu:0.6):0.1):0.3):0.2):0.3):0.9);\n",
      "\n"
     ]
    }
   ],
   "source": [
    "def run_grape(dataset, **kwargs):\n",
    "    \"\"\"Helper function to run GRAPE and return results.\"\"\"\n",
    "    cmd = ['python', 'grape.py', f'data/{dataset}', '--seed', '42']\n",
    "    \n",
    "    for key, value in kwargs.items():\n",
    "        cmd.extend([f'--{key}', str(value)])\n",
    "    \n",
    "    print(f\"Running: {' '.join(cmd)}\")\n",
    "    \n",
    "    try:\n",
    "        result = subprocess.run(cmd, capture_output=True, text=True, check=True)\n",
    "        return result.stderr  # GRAPE logs to stderr\n",
    "    except subprocess.CalledProcessError as e:\n",
    "        print(f\"Error: {e.stderr}\")\n",
    "        return None\n",
    "\n",
    "# Run basic analysis on Dravidian data\n",
    "print(\"=== GRAPE Analysis: Dravidian Languages ===\\n\")\n",
    "dravidian_output = run_grape('dravlex.tsv')\n",
    "print(dravidian_output)"
   ]
  },
  {
   "cell_type": "code",
   "execution_count": 5,
   "id": "cell-7",
   "metadata": {
    "execution": {
     "iopub.execute_input": "2025-07-21T13:55:27.406287Z",
     "iopub.status.busy": "2025-07-21T13:55:27.405813Z",
     "iopub.status.idle": "2025-07-21T13:55:27.420426Z",
     "shell.execute_reply": "2025-07-21T13:55:27.418861Z"
    }
   },
   "outputs": [
    {
     "name": "stdout",
     "output_type": "stream",
     "text": [
      "\n",
      "Dravidian Language Family Tree:\n",
      "==============================\n",
      "\n",
      "         /-Badga\n",
      "      /-|\n",
      "     |  |   /-Toda\n",
      "     |   \\-|\n",
      "     |     |   /-Betta_Kurumba\n",
      "     |      \\-|\n",
      "   /-|         \\-Kota\n",
      "  |  |\n",
      "  |  |   /-Tulu\n",
      "  |  |  |\n",
      "  |  |  |   /-Malayalam\n",
      "  |   \\-|--|\n",
      "  |     |   \\-Tamil\n",
      "  |     |\n",
      "  |     |   /-Kannada\n",
      "--|      \\-|\n",
      "  |        |   /-Kodava\n",
      "  |         \\-|\n",
      "  |            \\-Yeruva\n",
      "  |\n",
      "  |      /-Brahui\n",
      "  |   /-|\n",
      "  |  |  |   /-Kurukh\n",
      "  |  |   \\-|\n",
      "  |  |      \\-Malto\n",
      "   \\-|\n",
      "     |      /-Parji\n",
      "     |   /-|\n",
      "     |  |  |   /-Kuwi\n",
      "     |  |   \\-|\n",
      "      \\-|      \\-Ollari_Gadba\n",
      "        |\n",
      "        |   /-Gondi\n",
      "         \\-|\n",
      "           |   /-Kolami\n",
      "            \\-|\n",
      "              |   /-Koya\n",
      "               \\-|\n",
      "                  \\-Telugu\n",
      "\n",
      "Tree Statistics:\n",
      "  Number of languages: 20\n",
      "  Tree height: 4.600\n",
      "  Languages: Badga, Betta_Kurumba, Brahui, Gondi, Kannada, Kodava, Kolami, Kota, Koya, Kurukh, Kuwi, Malayalam, Malto, Ollari_Gadba, Parji, Tamil, Telugu, Toda, Tulu, Yeruva\n"
     ]
    }
   ],
   "source": [
    "def extract_newick_tree(grape_output):\n",
    "    \"\"\"Extract Newick tree string from GRAPE output.\"\"\"\n",
    "    lines = grape_output.split('\\n')\n",
    "    for line in lines:\n",
    "        if '[INFO] Newick format tree:' in line:\n",
    "            return line.split('[INFO] Newick format tree: ', 1)[1].strip()\n",
    "    return None\n",
    "\n",
    "def visualize_tree(newick_string, title=\"Phylogenetic Tree\"):\n",
    "    \"\"\"Create a visualization of the phylogenetic tree.\"\"\"\n",
    "    if not newick_string:\n",
    "        print(\"No tree to visualize\")\n",
    "        return None\n",
    "        \n",
    "    tree = Tree(newick_string)\n",
    "    \n",
    "    print(f\"\\n{title}:\")\n",
    "    print(\"=\" * len(title))\n",
    "    print(tree.get_ascii(show_internal=True))\n",
    "    \n",
    "    # Show some tree statistics\n",
    "    leaves = tree.get_leaves()\n",
    "    print(f\"\\nTree Statistics:\")\n",
    "    print(f\"  Number of languages: {len(leaves)}\")\n",
    "    print(f\"  Tree height: {tree.get_farthest_leaf()[1]:.3f}\")\n",
    "    print(f\"  Languages: {', '.join(sorted([leaf.name for leaf in leaves]))}\")\n",
    "    \n",
    "    return tree\n",
    "\n",
    "# Extract and visualize the Dravidian tree\n",
    "dravidian_newick = extract_newick_tree(dravidian_output)\n",
    "dravidian_tree = visualize_tree(dravidian_newick, \"Dravidian Language Family Tree\")"
   ]
  },
  {
   "cell_type": "markdown",
   "id": "cell-8",
   "metadata": {},
   "source": [
    "## 3. Linguistic Validation\n",
    "\n",
    "Let's check if our results align with known linguistic classifications:"
   ]
  },
  {
   "cell_type": "code",
   "execution_count": 6,
   "id": "cell-9",
   "metadata": {
    "execution": {
     "iopub.execute_input": "2025-07-21T13:55:27.424164Z",
     "iopub.status.busy": "2025-07-21T13:55:27.423811Z",
     "iopub.status.idle": "2025-07-21T13:55:27.436330Z",
     "shell.execute_reply": "2025-07-21T13:55:27.435284Z"
    }
   },
   "outputs": [
    {
     "name": "stdout",
     "output_type": "stream",
     "text": [
      "=== Linguistic Validation ===\n",
      "\n",
      "South Dravidian Validation:\n",
      "  Expected: ['Badga', 'Kannada', 'Kodava', 'Kota', 'Malayalam', 'Tamil', 'Toda', 'Tulu']\n",
      "  Found in clade: ['Badga', 'Betta_Kurumba', 'Kannada', 'Kodava', 'Kota', 'Malayalam', 'Tamil', 'Toda', 'Tulu', 'Yeruva']\n",
      "  Monophyletic: ✓\n",
      "  Extra languages: ['Betta_Kurumba', 'Yeruva']\n",
      "\n",
      "Central Dravidian Validation:\n",
      "  Expected: ['Gondi', 'Kolami', 'Koya', 'Kuwi', 'Ollari_Gadba', 'Parji']\n",
      "  Found in clade: ['Gondi', 'Kolami', 'Koya', 'Kuwi', 'Ollari_Gadba', 'Parji', 'Telugu']\n",
      "  Monophyletic: ✓\n",
      "  Extra languages: ['Telugu']\n",
      "\n",
      "North Dravidian Validation:\n",
      "  Expected: ['Brahui', 'Kurukh', 'Malto']\n",
      "  Found in clade: ['Brahui', 'Kurukh', 'Malto']\n",
      "  Monophyletic: ✓\n",
      "\n",
      "Overall validation success: 3/3 groups (100.0%)\n"
     ]
    }
   ],
   "source": [
    "def validate_grouping(tree, group_name, expected_languages):\n",
    "    \"\"\"Validate if expected languages form a monophyletic group.\"\"\"\n",
    "    if not tree:\n",
    "        return False\n",
    "        \n",
    "    # Find languages that are actually in the tree\n",
    "    tree_languages = {leaf.name for leaf in tree.get_leaves()}\n",
    "    available_languages = expected_languages.intersection(tree_languages)\n",
    "    \n",
    "    if len(available_languages) < 2:\n",
    "        print(f\"\\n{group_name}: Not enough languages in tree ({len(available_languages)})\")\n",
    "        return False\n",
    "        \n",
    "    # Get MRCA of the expected languages\n",
    "    target_nodes = [leaf for leaf in tree.get_leaves() if leaf.name in available_languages]\n",
    "    \n",
    "    if len(target_nodes) < 2:\n",
    "        return False\n",
    "        \n",
    "    mrca = tree.get_common_ancestor(target_nodes)\n",
    "    clade_languages = {leaf.name for leaf in mrca.get_leaves()}\n",
    "    \n",
    "    is_monophyletic = available_languages.issubset(clade_languages)\n",
    "    extra_languages = clade_languages - available_languages\n",
    "    \n",
    "    print(f\"\\n{group_name} Validation:\")\n",
    "    print(f\"  Expected: {sorted(available_languages)}\")\n",
    "    print(f\"  Found in clade: {sorted(clade_languages)}\")\n",
    "    print(f\"  Monophyletic: {'✓' if is_monophyletic else '✗'}\")\n",
    "    \n",
    "    if extra_languages:\n",
    "        print(f\"  Extra languages: {sorted(extra_languages)}\")\n",
    "    \n",
    "    return is_monophyletic\n",
    "\n",
    "# Define expected Dravidian groupings based on linguistic consensus\n",
    "dravidian_groups = {\n",
    "    'South Dravidian': {'Tamil', 'Malayalam', 'Kannada', 'Tulu', 'Kodava', 'Badga', 'Kota', 'Toda'},\n",
    "    'Central Dravidian': {'Gondi', 'Koya', 'Kuwi', 'Kolami', 'Parji', 'Ollari_Gadba'},\n",
    "    'North Dravidian': {'Brahui', 'Kurukh', 'Malto'}\n",
    "}\n",
    "\n",
    "# Validate groupings\n",
    "print(\"=== Linguistic Validation ===\")\n",
    "validation_results = {}\n",
    "\n",
    "for group_name, languages in dravidian_groups.items():\n",
    "    validation_results[group_name] = validate_grouping(dravidian_tree, group_name, languages)\n",
    "\n",
    "success_count = sum(validation_results.values())\n",
    "total_count = len(validation_results)\n",
    "print(f\"\\nOverall validation success: {success_count}/{total_count} groups ({success_count/total_count*100:.1f}%)\")"
   ]
  },
  {
   "cell_type": "markdown",
   "id": "cell-10",
   "metadata": {},
   "source": [
    "## 4. Parameter Comparison\n",
    "\n",
    "Let's explore how different parameters affect the results:"
   ]
  },
  {
   "cell_type": "code",
   "execution_count": 7,
   "id": "cell-11",
   "metadata": {
    "execution": {
     "iopub.execute_input": "2025-07-21T13:55:27.439482Z",
     "iopub.status.busy": "2025-07-21T13:55:27.439166Z",
     "iopub.status.idle": "2025-07-21T13:55:29.359746Z",
     "shell.execute_reply": "2025-07-21T13:55:29.358201Z"
    }
   },
   "outputs": [
    {
     "name": "stdout",
     "output_type": "stream",
     "text": [
      "=== Algorithm Comparison ===\n",
      "\n",
      "\n",
      "Testing louvain algorithm:\n",
      "Running: python grape.py data/dravlex.tsv --seed 42 --community louvain --strategy fixed --initial_value 0.5\n"
     ]
    },
    {
     "name": "stdout",
     "output_type": "stream",
     "text": [
      "  Tree height: 4.600\n",
      "  Number of leaves: 20\n",
      "\n",
      "Testing greedy algorithm:\n",
      "Running: python grape.py data/dravlex.tsv --seed 42 --community greedy --strategy fixed --initial_value 0.5\n"
     ]
    },
    {
     "name": "stdout",
     "output_type": "stream",
     "text": [
      "  Tree height: 4.600\n",
      "  Number of leaves: 20\n",
      "\n",
      "Robinson-Foulds distance between louvain and greedy: 0\n",
      "Normalized RF distance: 0.000\n"
     ]
    }
   ],
   "source": [
    "# Compare different community detection algorithms\n",
    "algorithms = ['louvain', 'greedy']\n",
    "algorithm_results = {}\n",
    "\n",
    "print(\"=== Algorithm Comparison ===\\n\")\n",
    "\n",
    "for alg in algorithms:\n",
    "    print(f\"\\nTesting {alg} algorithm:\")\n",
    "    output = run_grape('dravlex.tsv', community=alg, strategy='fixed', initial_value=0.5)\n",
    "    \n",
    "    if output:\n",
    "        newick = extract_newick_tree(output)\n",
    "        if newick:\n",
    "            tree = Tree(newick)\n",
    "            algorithm_results[alg] = {\n",
    "                'tree': tree,\n",
    "                'newick': newick,\n",
    "                'num_leaves': len(tree.get_leaves()),\n",
    "                'tree_height': tree.get_farthest_leaf()[1]\n",
    "            }\n",
    "            \n",
    "            print(f\"  Tree height: {algorithm_results[alg]['tree_height']:.3f}\")\n",
    "            print(f\"  Number of leaves: {algorithm_results[alg]['num_leaves']}\")\n",
    "\n",
    "# Compare tree topologies\n",
    "if len(algorithm_results) >= 2:\n",
    "    algs = list(algorithm_results.keys())\n",
    "    tree1 = algorithm_results[algs[0]]['tree']\n",
    "    tree2 = algorithm_results[algs[1]]['tree']\n",
    "    \n",
    "    # Calculate Robinson-Foulds distance\n",
    "    rf_distance = tree1.robinson_foulds(tree2)\n",
    "    print(f\"\\nRobinson-Foulds distance between {algs[0]} and {algs[1]}: {rf_distance[0]}\")\n",
    "    print(f\"Normalized RF distance: {rf_distance[0]/rf_distance[1]:.3f}\")"
   ]
  },
  {
   "cell_type": "markdown",
   "id": "cell-12",
   "metadata": {},
   "source": [
    "## 5. All Language Family Trees\n",
    "\n",
    "Let's display the phylogenetic trees for all the language families that GRAPE has analyzed:"
   ]
  },
  {
   "cell_type": "code",
   "execution_count": null,
   "id": "cell-13",
   "metadata": {
    "execution": {
     "iopub.execute_input": "2025-07-21T13:55:29.364740Z",
     "iopub.status.busy": "2025-07-21T13:55:29.364365Z",
     "iopub.status.idle": "2025-07-21T13:55:29.374979Z",
     "shell.execute_reply": "2025-07-21T13:55:29.373448Z"
    }
   },
   "outputs": [],
   "source": "# Display trees for all analyzed language families\ndef display_all_trees():\n    \"\"\"Display ASCII trees and publication image links for all language families.\"\"\"\n    tree_files = {\n        'Dravidian': 'docs/images/trees/dravidian_formatted.txt',\n        'Polynesian': 'docs/images/trees/polynesian_formatted.txt', \n        'Indo-European': 'docs/images/trees/indo-european_formatted.txt',\n        'Tupian': 'docs/images/trees/tupian_formatted.txt',\n        'Arawakan': 'docs/images/trees/arawakan_formatted.txt'\n    }\n    \n    publication_images = {\n        'Romance': 'docs/images/trees/publication/romance.png',\n        'Austroasiatic': 'docs/images/trees/publication/austroasiatic.png',\n        'Turkic': 'docs/images/trees/publication/turkic.png',\n        'Dravidian': 'docs/images/trees/publication/dravidian.png',\n        'Polynesian': 'docs/images/trees/publication/polynesian.png',\n        'Tupian': 'docs/images/trees/publication/tupian.png'\n    }\n    \n    print(\"🌳 GRAPE PHYLOGENETIC TREE VISUALIZATIONS\")\n    print(\"=\" * 50)\n    \n    print(\"\\n📊 PUBLICATION-QUALITY IMAGES:\")\n    print(\"High-resolution images suitable for academic papers and presentations:\\n\")\n    \n    for family, image_path in publication_images.items():\n        if os.path.exists(image_path):\n            print(f\"✅ {family} Language Family:\")\n            print(f\"   📊 Publication PNG: {image_path}\")\n            print(f\"   📊 Publication SVG: {image_path.replace('.png', '.svg')}\")\n        else:\n            print(f\"⚠️  {family}: Publication images not yet generated\")\n    \n    print(\"\\n📝 ASCII TREE REPRESENTATIONS:\")\n    print(\"Text-based tree visualizations with linguistic analysis:\\n\")\n    \n    for family, filepath in tree_files.items():\n        if os.path.exists(filepath):\n            print(f\"✅ {family} Language Family: {filepath}\")\n            \n            # Display first few lines of the tree\n            with open(filepath, 'r') as f:\n                lines = f.readlines()[:15]  # First 15 lines\n                print(\"   Preview:\")\n                for line in lines:\n                    print(f\"   {line.rstrip()}\")\n                print(\"   [... truncated for brevity ...]\\n\")\n        else:\n            print(f\"❌ Tree file not found for {family}: {filepath}\")\n    \n    print(\"\\n🎯 USAGE IN PUBLICATIONS:\")\n    print(\"LaTeX: \\\\includegraphics[width=0.8\\\\textwidth]{docs/images/trees/publication/romance.png}\")\n    print(\"Markdown: ![Romance Tree](docs/images/trees/publication/romance.png)\")\n    print(\"HTML: <img src='docs/images/trees/publication/romance.png' alt='Romance Tree' width='800'>\")\n\n# Display all available trees and publication images\ndisplay_all_trees()"
  },
  {
   "cell_type": "markdown",
   "id": "cell-14",
   "metadata": {},
   "source": [
    "## 6. Summary\n",
    "\n",
    "Let's summarize our key findings:"
   ]
  },
  {
   "cell_type": "code",
   "execution_count": 9,
   "id": "cell-15",
   "metadata": {
    "execution": {
     "iopub.execute_input": "2025-07-21T13:55:29.378748Z",
     "iopub.status.busy": "2025-07-21T13:55:29.378244Z",
     "iopub.status.idle": "2025-07-21T13:55:29.390375Z",
     "shell.execute_reply": "2025-07-21T13:55:29.389163Z"
    }
   },
   "outputs": [
    {
     "name": "stdout",
     "output_type": "stream",
     "text": [
      "============================================================\n",
      "GRAPE ANALYSIS SUMMARY\n",
      "============================================================\n",
      "\n",
      "📊 DATA EXPLORATION:\n",
      "• Analyzed 3 Dravidian languages across 100 concepts\n",
      "• Data completeness ranges from 56.0% to 100.0%\n",
      "• Dataset contains 778 unique cognate sets\n",
      "\n",
      "🌳 PHYLOGENETIC RESULTS:\n",
      "• Linguistic validation success rate: 100.0%\n",
      "  ✓ South Dravidian\n",
      "  ✓ Central Dravidian\n",
      "  ✓ North Dravidian\n",
      "\n",
      "⚙️ PARAMETER ANALYSIS:\n",
      "• Tested 2 community detection algorithms\n",
      "• Robinson-Foulds distance between algorithms: 0\n",
      "\n",
      "🔍 KEY INSIGHTS:\n",
      "• GRAPE successfully recovers established linguistic groupings\n",
      "• Community detection algorithms show consistent results\n",
      "• Tree visualizations provide clear phylogenetic relationships\n",
      "• Random seed (--seed 42) ensures reproducible results\n",
      "\n",
      "📋 RECOMMENDATIONS:\n",
      "• Use Louvain algorithm for most analyses (faster)\n",
      "• Use Greedy algorithm when reproducibility is critical\n",
      "• Always use --seed parameter for reproducible results\n",
      "• Validate results against known linguistic classifications\n",
      "\n",
      "============================================================\n",
      "🎉 Analysis complete! GRAPE provides a powerful framework for\n",
      "   phylogenetic inference that complements traditional methods.\n",
      "============================================================\n"
     ]
    }
   ],
   "source": [
    "print(\"=\" * 60)\n",
    "print(\"GRAPE ANALYSIS SUMMARY\")\n",
    "print(\"=\" * 60)\n",
    "\n",
    "print(\"\\n📊 DATA EXPLORATION:\")\n",
    "print(f\"• Analyzed {len(languages)} Dravidian languages across {len(concepts)} concepts\")\n",
    "print(f\"• Data completeness ranges from {completeness.min():.1f}% to {completeness.max():.1f}%\")\n",
    "print(f\"• Dataset contains {len(cognate_sets)} unique cognate sets\")\n",
    "\n",
    "print(\"\\n🌳 PHYLOGENETIC RESULTS:\")\n",
    "if 'validation_results' in locals():\n",
    "    success_rate = sum(validation_results.values()) / len(validation_results) * 100\n",
    "    print(f\"• Linguistic validation success rate: {success_rate:.1f}%\")\n",
    "    for group, success in validation_results.items():\n",
    "        status = \"✓\" if success else \"✗\"\n",
    "        print(f\"  {status} {group}\")\n",
    "\n",
    "print(\"\\n⚙️ PARAMETER ANALYSIS:\")\n",
    "if 'algorithm_results' in locals():\n",
    "    print(f\"• Tested {len(algorithm_results)} community detection algorithms\")\n",
    "    if len(algorithm_results) >= 2:\n",
    "        print(f\"• Robinson-Foulds distance between algorithms: {rf_distance[0]}\")\n",
    "\n",
    "print(\"\\n🔍 KEY INSIGHTS:\")\n",
    "print(\"• GRAPE successfully recovers established linguistic groupings\")\n",
    "print(\"• Community detection algorithms show consistent results\")\n",
    "print(\"• Tree visualizations provide clear phylogenetic relationships\")\n",
    "print(\"• Random seed (--seed 42) ensures reproducible results\")\n",
    "\n",
    "print(\"\\n📋 RECOMMENDATIONS:\")\n",
    "print(\"• Use Louvain algorithm for most analyses (faster)\")\n",
    "print(\"• Use Greedy algorithm when reproducibility is critical\")\n",
    "print(\"• Always use --seed parameter for reproducible results\")\n",
    "print(\"• Validate results against known linguistic classifications\")\n",
    "\n",
    "print(\"\\n\" + \"=\" * 60)\n",
    "print(\"🎉 Analysis complete! GRAPE provides a powerful framework for\")\n",
    "print(\"   phylogenetic inference that complements traditional methods.\")\n",
    "print(\"=\" * 60)"
   ]
  },
  {
   "cell_type": "markdown",
   "id": "cell-16",
   "metadata": {},
   "source": [
    "## Next Steps\n",
    "\n",
    "Now that you've completed this interactive analysis, you can:\n",
    "\n",
    "1. **Explore your own data**: Replace the datasets with your own cognate data\n",
    "2. **Try different parameters**: Experiment with various settings to optimize for your data\n",
    "3. **Compare with traditional methods**: Use tools like BEAST, MrBayes, or IQ-TREE for comparison\n",
    "4. **Validate results**: Check your results against published linguistic classifications\n",
    "5. **Scale up**: Apply GRAPE to larger datasets for comprehensive analyses\n",
    "\n",
    "## Documentation Links\n",
    "\n",
    "For more information, see:\n",
    "- [GRAPE Documentation](../README.md)\n",
    "- [Parameter Guide](../user_guide/parameters.md)\n",
    "- [Dravidian Walkthrough](dravidian_walkthrough.md)\n",
    "- [Mathematical Background](../technical/mathematical_background.md)\n",
    "- [Tree Visualizations](../images/trees/VISUALIZATION_SUMMARY.md)"
   ]
  }
 ],
 "metadata": {
  "kernelspec": {
   "display_name": "Python 3",
   "language": "python",
   "name": "python3"
  },
  "language_info": {
   "codemirror_mode": {
    "name": "ipython",
    "version": 3
   },
   "file_extension": ".py",
   "mimetype": "text/x-python",
   "name": "python",
   "nbconvert_exporter": "python",
   "pygments_lexer": "ipython3",
   "version": "3.12.10"
  }
 },
 "nbformat": 4,
 "nbformat_minor": 5
}